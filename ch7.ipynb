{
  "nbformat": 4,
  "nbformat_minor": 0,
  "metadata": {
    "colab": {
      "name": "Untitled1.ipynb",
      "provenance": []
    },
    "kernelspec": {
      "name": "python3",
      "display_name": "Python 3"
    },
    "language_info": {
      "name": "python"
    }
  },
  "cells": [
    {
      "cell_type": "markdown",
      "metadata": {
        "id": "D_fTsRl058iV"
      },
      "source": [
        "# **Ch7錯誤處理**\n",
        "###try:\n",
        "###except:\n",
        "###else:\n",
        "###finally:"
      ]
    },
    {
      "cell_type": "code",
      "metadata": {
        "id": "-BnBrG4Tji2-",
        "colab": {
          "base_uri": "https://localhost:8080/",
          "height": 197
        },
        "outputId": "0d91471f-b5a0-4ba4-90a7-11a9777fe6c5"
      },
      "source": [
        "a=10\n",
        "b=20\n",
        "if a<b:\n",
        "    print(n) #故意出錯的地方"
      ],
      "execution_count": 1,
      "outputs": [
        {
          "output_type": "error",
          "ename": "NameError",
          "evalue": "ignored",
          "traceback": [
            "\u001b[0;31m---------------------------------------------------------------------------\u001b[0m",
            "\u001b[0;31mNameError\u001b[0m                                 Traceback (most recent call last)",
            "\u001b[0;32m<ipython-input-1-c19f432ee023>\u001b[0m in \u001b[0;36m<module>\u001b[0;34m()\u001b[0m\n\u001b[1;32m      2\u001b[0m \u001b[0mb\u001b[0m\u001b[0;34m=\u001b[0m\u001b[0;36m20\u001b[0m\u001b[0;34m\u001b[0m\u001b[0;34m\u001b[0m\u001b[0m\n\u001b[1;32m      3\u001b[0m \u001b[0;32mif\u001b[0m \u001b[0ma\u001b[0m\u001b[0;34m<\u001b[0m\u001b[0mb\u001b[0m\u001b[0;34m:\u001b[0m\u001b[0;34m\u001b[0m\u001b[0;34m\u001b[0m\u001b[0m\n\u001b[0;32m----> 4\u001b[0;31m     \u001b[0mprint\u001b[0m\u001b[0;34m(\u001b[0m\u001b[0mn\u001b[0m\u001b[0;34m)\u001b[0m\u001b[0;34m\u001b[0m\u001b[0;34m\u001b[0m\u001b[0m\n\u001b[0m",
            "\u001b[0;31mNameError\u001b[0m: name 'n' is not defined"
          ]
        }
      ]
    },
    {
      "cell_type": "code",
      "metadata": {
        "colab": {
          "base_uri": "https://localhost:8080/"
        },
        "id": "nuMVrPAA9ALP",
        "outputId": "ced2fb57-879f-465c-81a4-4ada0f6bbdf2"
      },
      "source": [
        "a=10\n",
        "b=20\n",
        "try:\n",
        "    if a<b:\n",
        "        print(n)\n",
        "except:\n",
        "    print(\"錯誤產生\")"
      ],
      "execution_count": 2,
      "outputs": [
        {
          "output_type": "stream",
          "text": [
            "錯誤產生\n"
          ],
          "name": "stdout"
        }
      ]
    },
    {
      "cell_type": "markdown",
      "metadata": {
        "id": "5X8-ImnV55V5"
      },
      "source": [
        "# 指定錯誤類別處理"
      ]
    },
    {
      "cell_type": "code",
      "metadata": {
        "colab": {
          "base_uri": "https://localhost:8080/"
        },
        "id": "QHTdsbZx9XPy",
        "outputId": "7eedd2f8-7e47-4dd4-8efa-7d9c48c938d2"
      },
      "source": [
        "a=10\n",
        "b=20\n",
        "try:\n",
        "    if a<b:\n",
        "        print(n)\n",
        "except NameError as e:\n",
        "    print(\"錯誤產生, 錯誤原因：\",e)\n",
        "except ZeroDivisionError:\n",
        "    print(\"除以0錯誤\")"
      ],
      "execution_count": 3,
      "outputs": [
        {
          "output_type": "stream",
          "text": [
            "錯誤產生, 錯誤原因： name 'n' is not defined\n"
          ],
          "name": "stdout"
        }
      ]
    },
    {
      "cell_type": "markdown",
      "metadata": {
        "id": "6_wTQfgp9tvn"
      },
      "source": [
        "# **else**\n",
        "####沒有錯誤產生會執行的部分"
      ]
    },
    {
      "cell_type": "code",
      "metadata": {
        "colab": {
          "base_uri": "https://localhost:8080/"
        },
        "id": "neRFemcw-D3W",
        "outputId": "e5d6ce9e-717a-4d60-dbef-15ac4bcf6a8b"
      },
      "source": [
        "a=10\n",
        "b=20\n",
        "try:\n",
        "    if a>b:     #改變比較條件，讓錯誤不發生\n",
        "        print(n)\n",
        "except:\n",
        "    print(\"錯誤發生\")\n",
        "else:\n",
        "    print(\"沒有錯誤發生時會執行的部分\")"
      ],
      "execution_count": 5,
      "outputs": [
        {
          "output_type": "stream",
          "text": [
            "沒有錯誤發生時會執行的部分\n"
          ],
          "name": "stdout"
        }
      ]
    },
    {
      "cell_type": "code",
      "metadata": {
        "colab": {
          "base_uri": "https://localhost:8080/"
        },
        "id": "aEWsg_eD_ynm",
        "outputId": "0c96edd8-22f8-4443-966f-192552cf8818"
      },
      "source": [
        "a=30\n",
        "b=20\n",
        "try:\n",
        "    if a>b:     #改變比較條件，讓錯誤不發生\n",
        "        print(n)\n",
        "except:\n",
        "    print(\"錯誤發生\")\n",
        "else:\n",
        "    print(\"沒有錯誤發生時會執行的部分\")\n",
        "finally:\n",
        "    print(\"不管有沒有錯誤一定會執行的部分\")"
      ],
      "execution_count": 9,
      "outputs": [
        {
          "output_type": "stream",
          "text": [
            "錯誤發生\n",
            "不管有沒有錯誤一定會執行的部分\n"
          ],
          "name": "stdout"
        }
      ]
    }
  ]
}
