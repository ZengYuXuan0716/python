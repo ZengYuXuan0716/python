{
  "nbformat": 4,
  "nbformat_minor": 0,
  "metadata": {
    "colab": {
      "name": "98_381",
      "provenance": [],
      "collapsed_sections": [
        "qY5puaokZEB2"
      ]
    },
    "kernelspec": {
      "name": "python3",
      "display_name": "Python 3"
    },
    "language_info": {
      "name": "python"
    }
  },
  "cells": [
    {
      "cell_type": "markdown",
      "metadata": {
        "id": "m8MILJj3YDT4"
      },
      "source": [
        "#1.\n",
        "(list的應用)"
      ]
    },
    {
      "cell_type": "code",
      "metadata": {
        "colab": {
          "base_uri": "https://localhost:8080/"
        },
        "id": "TZaglt7rX-DA",
        "outputId": "9643dd4f-af0e-4b99-9652-5f94c8c51640"
      },
      "source": [
        "list_1=['a', 'b', 'c']\n",
        "list_2=['d', 'e', 'f']\n",
        "list_3=list_1 + list_2\n",
        "list_4= list_3 * 2\n",
        "print(list_4)"
      ],
      "execution_count": null,
      "outputs": [
        {
          "output_type": "stream",
          "text": [
            "['a', 'b', 'c', 'd', 'e', 'f', 'a', 'b', 'c', 'd', 'e', 'f']\n"
          ],
          "name": "stdout"
        }
      ]
    },
    {
      "cell_type": "markdown",
      "metadata": {
        "id": "7b8sEowjYF5O"
      },
      "source": [
        "#2\n",
        "(變數型別的計算)\n",
        "* eval函式的輸入是\"字串str\"型態的數學式，回傳則是數學式計算的結果"
      ]
    },
    {
      "cell_type": "code",
      "metadata": {
        "colab": {
          "base_uri": "https://localhost:8080/"
        },
        "id": "_dH0Y0piYGqd",
        "outputId": "490c0864-d6cc-4874-903f-09249e403ceb"
      },
      "source": [
        "car_dist= float(eval(input(\"請輸入以公里為單位的行駛距離：\")))\n",
        "run_hour= int(eval(input(\"請輸入經過的小時數：\")))\n",
        "run_min= int(eval(input(\"請輸入經過的分鐘：\")))\n",
        "run_time= run_hour + run_min/60\n",
        "car_speed= car_dist / run_time\n",
        "print(\"汽車的時速是：\", car_speed, \"km/hr\")"
      ],
      "execution_count": null,
      "outputs": [
        {
          "output_type": "stream",
          "text": [
            "請輸入以公里為單位的行駛距離：61.1\n",
            "請輸入經過的小時數：2\n",
            "請輸入經過的分鐘：30\n",
            "汽車的時速是： 24.44 km/hr\n"
          ],
          "name": "stdout"
        }
      ]
    },
    {
      "cell_type": "markdown",
      "metadata": {
        "id": "-vVkDUOAZ7Ff"
      },
      "source": [
        "#3\n",
        "(變數型別與運算元的應用)\n",
        "* / : 除法\n",
        "* //: 除法取整數\n",
        "* **: 次方"
      ]
    },
    {
      "cell_type": "markdown",
      "metadata": {
        "id": "CYja4iquZ_-e"
      },
      "source": [
        "#4\n",
        "(變數型別)"
      ]
    },
    {
      "cell_type": "code",
      "metadata": {
        "colab": {
          "base_uri": "https://localhost:8080/"
        },
        "id": "ZAmI5pZnaAoG",
        "outputId": "445a31ce-4fbd-4ccb-83a0-fa77764165bb"
      },
      "source": [
        "age=12\n",
        "minor=False\n",
        "name=\"David\"\n",
        "weight=64.5\n",
        "zip = \"545\"\n",
        "print(type(age), type(minor), type(name), type(weight), type(zip))"
      ],
      "execution_count": null,
      "outputs": [
        {
          "output_type": "stream",
          "text": [
            "<class 'int'> <class 'bool'> <class 'str'> <class 'float'> <class 'str'>\n"
          ],
          "name": "stdout"
        }
      ]
    },
    {
      "cell_type": "markdown",
      "metadata": {
        "id": "3Re9LHkoaK9V"
      },
      "source": [
        "#5\n",
        "(變數型別)"
      ]
    },
    {
      "cell_type": "code",
      "metadata": {
        "colab": {
          "base_uri": "https://localhost:8080/"
        },
        "id": "pCLsqoW4aLX2",
        "outputId": "2e72b62a-8910-4c69-fcde-eb00fc27f629"
      },
      "source": [
        "TC=input(\"請輸入攝氏溫度：\")\n",
        "TF=eval(TC) * (9/5) + 32\n",
        "message = \"攝氏\" + TC + \"度等於華氏\" + str(TF) + \"度\"\n",
        "print(message)\n",
        "print(type(TC), type(TF), type(message))"
      ],
      "execution_count": null,
      "outputs": [
        {
          "output_type": "stream",
          "text": [
            "請輸入攝氏溫度：37\n",
            "攝氏37度等於華氏98.60000000000001度\n",
            "<class 'str'> <class 'float'> <class 'str'>\n"
          ],
          "name": "stdout"
        }
      ]
    },
    {
      "cell_type": "markdown",
      "metadata": {
        "id": "7UJMJgA4aVl1"
      },
      "source": [
        "#6\n",
        "(變數運算型別)"
      ]
    },
    {
      "cell_type": "code",
      "metadata": {
        "colab": {
          "base_uri": "https://localhost:8080/"
        },
        "id": "71ES7X6raVFV",
        "outputId": "eaf170bf-b030-4fe5-a6e1-d790beea96bc"
      },
      "source": [
        "x1=\"0\"\n",
        "y1=4\n",
        "a=x1*y1\n",
        "print(a, type(a))\n",
        "x2=8\n",
        "y2=4\n",
        "b=x2/y2\n",
        "print(b, type(b))\n",
        "x3=10.5\n",
        "y3=1\n",
        "c=x3/y3\n",
        "print(c, type(c))"
      ],
      "execution_count": null,
      "outputs": [
        {
          "output_type": "stream",
          "text": [
            "0000 <class 'str'>\n",
            "2.0 <class 'float'>\n",
            "10.5 <class 'float'>\n"
          ],
          "name": "stdout"
        }
      ]
    },
    {
      "cell_type": "markdown",
      "metadata": {
        "id": "SQ6kjDneaXdW"
      },
      "source": [
        "#7\n",
        "(變數型別)"
      ]
    },
    {
      "cell_type": "code",
      "metadata": {
        "colab": {
          "base_uri": "https://localhost:8080/"
        },
        "id": "n2WF05gpaW9l",
        "outputId": "1867ed9c-e6ba-4a93-ca39-1cfc1104f48b"
      },
      "source": [
        "print(type(1.0), type(+1E-10), type(\"False\"), type(True))"
      ],
      "execution_count": null,
      "outputs": [
        {
          "output_type": "stream",
          "text": [
            "<class 'float'> <class 'float'> <class 'str'> <class 'bool'>\n"
          ],
          "name": "stdout"
        }
      ]
    },
    {
      "cell_type": "markdown",
      "metadata": {
        "id": "U-PV_VrFaUzO"
      },
      "source": [
        "#8\n",
        "#####(dict應用)\n",
        "#####(input輸入型別)"
      ]
    },
    {
      "cell_type": "code",
      "metadata": {
        "colab": {
          "base_uri": "https://localhost:8080/"
        },
        "id": "pE5R4tH0bEhO",
        "outputId": "49b75ec0-faf6-4e47-ed98-6af79ce9948c"
      },
      "source": [
        "products = {1: '鉛筆', 2: '橡皮擦'}\n",
        "id=int(input('輸入產品編號：')) #題目少了int()))\n",
        "if not id in products:\n",
        "  print('該產品並不存在')\n",
        "else:\n",
        "  print(\"產品名稱為：\"+ products[id])"
      ],
      "execution_count": null,
      "outputs": [
        {
          "output_type": "stream",
          "text": [
            "輸入產品編號：2\n",
            "產品名稱為：橡皮擦\n"
          ],
          "name": "stdout"
        }
      ]
    },
    {
      "cell_type": "markdown",
      "metadata": {
        "id": "h3ppJ8PpbOSn"
      },
      "source": [
        "#9\n",
        "(變數型別)"
      ]
    },
    {
      "cell_type": "code",
      "metadata": {
        "colab": {
          "base_uri": "https://localhost:8080/"
        },
        "id": "S_scKSsZbOGu",
        "outputId": "f4f34afe-3b26-4978-d74d-17273234910a"
      },
      "source": [
        "print(type(5))\n",
        "print(type(8.0))\n",
        "print(type(\"True\"))\n",
        "print(type(False))"
      ],
      "execution_count": null,
      "outputs": [
        {
          "output_type": "stream",
          "text": [
            "<class 'int'>\n",
            "<class 'float'>\n",
            "<class 'str'>\n",
            "<class 'bool'>\n"
          ],
          "name": "stdout"
        }
      ]
    },
    {
      "cell_type": "markdown",
      "metadata": {
        "id": "zwSqdnQibN2X"
      },
      "source": [
        "#10\n",
        "(型別轉換應用)"
      ]
    },
    {
      "cell_type": "code",
      "metadata": {
        "colab": {
          "base_uri": "https://localhost:8080/"
        },
        "id": "9k2B9VCqbNoN",
        "outputId": "fc07bde9-e0c5-48fd-ecc7-b43a088cf260"
      },
      "source": [
        "#total = int(input(\"請輸入總數?\")) #原來程式會有錯誤\n",
        "total = eval(input(\"請輸入總數?\"))\n",
        "total = int(total)\n",
        "print(total, type(total))"
      ],
      "execution_count": null,
      "outputs": [
        {
          "output_type": "stream",
          "text": [
            "請輸入總數?100.1\n",
            "100 <class 'int'>\n"
          ],
          "name": "stdout"
        }
      ]
    },
    {
      "cell_type": "markdown",
      "metadata": {
        "id": "NILBDOgqbNb1"
      },
      "source": [
        "#11"
      ]
    },
    {
      "cell_type": "code",
      "metadata": {
        "colab": {
          "base_uri": "https://localhost:8080/"
        },
        "id": "vQptThn6bNJO",
        "outputId": "1134abb9-c4c0-4f13-85c3-a1ff7c2fd869"
      },
      "source": [
        "def reverse_str(oStr):\n",
        "  reStr=\"\"\n",
        "  for index in range(len(oStr)-1, -1, -1): #(1)\n",
        "    reStr += oStr[index] #(2)\n",
        "  return reStr\n",
        "print(reverse_str(\"Madam I'm Adam\"))"
      ],
      "execution_count": null,
      "outputs": [
        {
          "output_type": "stream",
          "text": [
            "madA m'I madaM\n"
          ],
          "name": "stdout"
        }
      ]
    },
    {
      "cell_type": "markdown",
      "metadata": {
        "id": "cn7pOp2xbMtN"
      },
      "source": [
        "#12\n",
        "(型別轉換)"
      ]
    },
    {
      "cell_type": "code",
      "metadata": {
        "colab": {
          "base_uri": "https://localhost:8080/"
        },
        "id": "T6H7Ejx3bMNd",
        "outputId": "9e241e4a-3dad-4c90-a053-881e860071ca"
      },
      "source": [
        "time_start = input(\"早上上班時間是幾點?\")\n",
        "time_end = input(\"下午下班時間是幾點?\")\n",
        "print(\"本日上班時間：\"+ str(int(time_end)-int(time_start))+\"小時\")"
      ],
      "execution_count": null,
      "outputs": [
        {
          "output_type": "stream",
          "text": [
            "早上上班時間是幾點?9\n",
            "下午下班時間是幾點?17\n",
            "本日上班時間：8小時\n"
          ],
          "name": "stdout"
        }
      ]
    },
    {
      "cell_type": "markdown",
      "metadata": {
        "id": "3bjRYcq6b-Wd"
      },
      "source": [
        "#13\n",
        "(字串取值)"
      ]
    },
    {
      "cell_type": "code",
      "metadata": {
        "colab": {
          "base_uri": "https://localhost:8080/"
        },
        "id": "N-Xs_tBNb-Kl",
        "outputId": "5107fd97-5e6e-4f78-f04d-69a8211bfd62"
      },
      "source": [
        "astr=\"abcdefghijklmnopqrstuvwxyz\"\n",
        "print(astr[5:20])\n",
        "print(astr[5:20:3])\n",
        "print(astr[20:5:-3])\n",
        "print(astr[::-3])\n",
        "print(astr[3:15:-1])"
      ],
      "execution_count": null,
      "outputs": [
        {
          "output_type": "stream",
          "text": [
            "fghijklmnopqrst\n",
            "filor\n",
            "uroli\n",
            "zwtqnkheb\n",
            "\n"
          ],
          "name": "stdout"
        }
      ]
    },
    {
      "cell_type": "markdown",
      "metadata": {
        "id": "zLUkE4Bzb9-c"
      },
      "source": [
        "#14\n",
        "(list取值)"
      ]
    },
    {
      "cell_type": "code",
      "metadata": {
        "colab": {
          "base_uri": "https://localhost:8080/"
        },
        "id": "0YYyMF1Cb9y9",
        "outputId": "70cfdc7f-014d-4342-c63b-80e796fd40a3"
      },
      "source": [
        "members=list(range(1,51))\n",
        "print(members)\n",
        "#print(member[-5:0])無法執行 #A\n",
        "print(members[0:-5]) #B\n",
        "#members[1:-5 無法執行 #C\n",
        "print(members[:-5]) #D\n",
        "print(members[1:5]) #E"
      ],
      "execution_count": null,
      "outputs": [
        {
          "output_type": "stream",
          "text": [
            "[1, 2, 3, 4, 5, 6, 7, 8, 9, 10, 11, 12, 13, 14, 15, 16, 17, 18, 19, 20, 21, 22, 23, 24, 25, 26, 27, 28, 29, 30, 31, 32, 33, 34, 35, 36, 37, 38, 39, 40, 41, 42, 43, 44, 45, 46, 47, 48, 49, 50]\n",
            "[1, 2, 3, 4, 5, 6, 7, 8, 9, 10, 11, 12, 13, 14, 15, 16, 17, 18, 19, 20, 21, 22, 23, 24, 25, 26, 27, 28, 29, 30, 31, 32, 33, 34, 35, 36, 37, 38, 39, 40, 41, 42, 43, 44, 45]\n",
            "[1, 2, 3, 4, 5, 6, 7, 8, 9, 10, 11, 12, 13, 14, 15, 16, 17, 18, 19, 20, 21, 22, 23, 24, 25, 26, 27, 28, 29, 30, 31, 32, 33, 34, 35, 36, 37, 38, 39, 40, 41, 42, 43, 44, 45]\n",
            "[2, 3, 4, 5]\n"
          ],
          "name": "stdout"
        }
      ]
    },
    {
      "cell_type": "markdown",
      "metadata": {
        "id": "PWPs8z73b9nl"
      },
      "source": [
        "#15\n",
        "(list取值)"
      ]
    },
    {
      "cell_type": "code",
      "metadata": {
        "colab": {
          "base_uri": "https://localhost:8080/"
        },
        "id": "BULvPuIUb9aN",
        "outputId": "230f84e5-bab3-4788-8799-41af6709390d"
      },
      "source": [
        "#本題要取出星期2,星期4,星期6\n",
        "weeks=[1,2,3,4,5,6,7]\n",
        "print(weeks[2:2])\n",
        "print(weeks[::2])\n",
        "print(weeks[1::2])\n",
        "print(weeks[1:2])"
      ],
      "execution_count": null,
      "outputs": [
        {
          "output_type": "stream",
          "text": [
            "[]\n",
            "[1, 3, 5, 7]\n",
            "[2, 4, 6]\n",
            "[2]\n"
          ],
          "name": "stdout"
        }
      ]
    },
    {
      "cell_type": "markdown",
      "metadata": {
        "id": "DYNpLfMXb9OG"
      },
      "source": [
        "#16\n",
        "(算式表示)"
      ]
    },
    {
      "cell_type": "code",
      "metadata": {
        "colab": {
          "base_uri": "https://localhost:8080/"
        },
        "id": "Pd8DxjKfb8_u",
        "outputId": "f9e52ba1-2efd-470f-c7ed-302d2d9c305f"
      },
      "source": [
        "x=eval(input(\"輸入一個數字：\"))\n",
        "y=(x+7)**2\n",
        "print(y)"
      ],
      "execution_count": null,
      "outputs": [
        {
          "output_type": "stream",
          "text": [
            "輸入一個數字：10\n",
            "289\n"
          ],
          "name": "stdout"
        }
      ]
    },
    {
      "cell_type": "markdown",
      "metadata": {
        "id": "CCNjadJ7cpu1"
      },
      "source": [
        "#17\n",
        "(not的應用)"
      ]
    },
    {
      "cell_type": "code",
      "metadata": {
        "colab": {
          "base_uri": "https://localhost:8080/"
        },
        "id": "mzI74uyPcpku",
        "outputId": "f83edeb7-69a3-4160-a258-e4ac9810fa0c"
      },
      "source": [
        "def get_discount(kid, girl):\n",
        "  discount = 0.2\n",
        "  if not (kid or girl):\n",
        "    discount=0\n",
        "  return discount\n",
        "\n",
        "print(\"discount=\", get_discount(True,False))"
      ],
      "execution_count": null,
      "outputs": [
        {
          "output_type": "stream",
          "text": [
            "discount= 0.2\n"
          ],
          "name": "stdout"
        }
      ]
    },
    {
      "cell_type": "markdown",
      "metadata": {
        "id": "Qk0sUxfScpKt"
      },
      "source": [
        "#18\n",
        "(Bool的應用)"
      ]
    },
    {
      "cell_type": "code",
      "metadata": {
        "colab": {
          "base_uri": "https://localhost:8080/"
        },
        "id": "EA2dxE4Gco-u",
        "outputId": "4eafbe7a-a16b-42c1-9ace-ab7f1cad8dab"
      },
      "source": [
        "print(0 or 2)\n",
        "print(bool()) #轉換bool型態，沒參數回傳False\n",
        "print(None == None)\n",
        "print(-2<0<2)"
      ],
      "execution_count": null,
      "outputs": [
        {
          "output_type": "stream",
          "text": [
            "2\n",
            "False\n",
            "True\n",
            "True\n"
          ],
          "name": "stdout"
        }
      ]
    },
    {
      "cell_type": "markdown",
      "metadata": {
        "id": "fB5NOCMhco1N"
      },
      "source": [
        "#19\n",
        "(運算子優先順序)"
      ]
    },
    {
      "cell_type": "code",
      "metadata": {
        "colab": {
          "base_uri": "https://localhost:8080/"
        },
        "id": "Gsqn5BBYcooO",
        "outputId": "3a446bac-cc73-432c-8188-0c50fcf78e18"
      },
      "source": [
        "print((5*(1+2)**2-3+4/2))"
      ],
      "execution_count": null,
      "outputs": [
        {
          "output_type": "stream",
          "text": [
            "44.0\n"
          ],
          "name": "stdout"
        }
      ]
    },
    {
      "cell_type": "markdown",
      "metadata": {
        "id": "JPj_GSNWcocO"
      },
      "source": [
        "#20\n",
        "(變數應用)"
      ]
    },
    {
      "cell_type": "code",
      "metadata": {
        "colab": {
          "base_uri": "https://localhost:8080/"
        },
        "id": "4jr_5HQ2coK-",
        "outputId": "aeb4f40a-202e-48e8-db8e-5085f7ec7ce7"
      },
      "source": [
        "a='Apple'\n",
        "print(a)\n",
        "b='Banana'\n",
        "a+=b\n",
        "b=a\n",
        "print(a)\n",
        "print(b)"
      ],
      "execution_count": null,
      "outputs": [
        {
          "output_type": "stream",
          "text": [
            "Apple\n",
            "AppleBanana\n",
            "AppleBanana\n"
          ],
          "name": "stdout"
        }
      ]
    },
    {
      "cell_type": "markdown",
      "metadata": {
        "id": "eycb2f1gZEXx"
      },
      "source": [
        "#21\n",
        "(運算子優先順序)"
      ]
    },
    {
      "cell_type": "code",
      "metadata": {
        "colab": {
          "base_uri": "https://localhost:8080/"
        },
        "id": "0-DpQ9CYZEMF",
        "outputId": "1978cca7-28e9-46b3-b231-c4d467e0f4b0"
      },
      "source": [
        "def calc(a,b,c,d):\n",
        "  value=(a-b)/c+d\n",
        "  return value\n",
        "print(calc(1,1,1,2))"
      ],
      "execution_count": null,
      "outputs": [
        {
          "output_type": "stream",
          "text": [
            "2.0\n"
          ],
          "name": "stdout"
        }
      ]
    },
    {
      "cell_type": "markdown",
      "metadata": {
        "id": "qY5puaokZEB2"
      },
      "source": [
        "#22\n",
        "(運算子優先順序) \n",
        "######() > * > +- > / > + - > or"
      ]
    },
    {
      "cell_type": "markdown",
      "metadata": {
        "id": "oIDJi8lLaSDr"
      },
      "source": [
        "#23\n",
        "(for迴圈與if判斷式)"
      ]
    },
    {
      "cell_type": "code",
      "metadata": {
        "colab": {
          "base_uri": "https://localhost:8080/"
        },
        "id": "vqD5aedGZD3u",
        "outputId": "1995d94c-7071-49ad-88c3-df047ef92ef0"
      },
      "source": [
        "def count_word(word, words_list):\n",
        "  count=0\n",
        "  for keyword in words_list:\n",
        "    if keyword == word:\n",
        "      count+=1\n",
        "  return count\n",
        "words_list=['i','am','a','boy','you','are','a','girl']\n",
        "word=input(\"你想要查詢哪個單字的數量?\")\n",
        "wtotal=count_word(word, words_list)\n",
        "print(\"在文章中一共有':\", wtotal,\"個單字\", word)"
      ],
      "execution_count": null,
      "outputs": [
        {
          "output_type": "stream",
          "text": [
            "你想要查詢哪個單字的數量?a\n",
            "在文章中一共有': 2 個單字 a\n"
          ],
          "name": "stdout"
        }
      ]
    },
    {
      "cell_type": "markdown",
      "metadata": {
        "id": "1fOXovQPZDsV"
      },
      "source": [
        "#24\n",
        "(if判斷式應用)"
      ]
    },
    {
      "cell_type": "code",
      "metadata": {
        "colab": {
          "base_uri": "https://localhost:8080/"
        },
        "id": "RYN1DBTLZDjC",
        "outputId": "83337beb-dcf9-43d5-d4d0-40d610f80498"
      },
      "source": [
        "ontime=input(\"機車是在晚上10點前返還的嗎? y或n:\").lower() #轉小寫\n",
        "days_rented = int(input(\"機車出租了幾天?\"))\n",
        "day_rented = input(\"機車是在星期幾出租的?\").capitalize() #首字大寫\n",
        "cost_per_day = 500\n",
        "if ontime == 'n':\n",
        "  days_rented += 1\n",
        "if day_rented == 'Wednesday':\n",
        "  total = (days_rented * cost_per_day) * 0.9\n",
        "if day_rented == 'Saturday':\n",
        "  total = (days_rented * cost_per_day) * 0.8\n",
        "print(\"機車的租借費用為:$\", total)"
      ],
      "execution_count": null,
      "outputs": [
        {
          "output_type": "stream",
          "text": [
            "機車是在晚上10點前返還的嗎? y或n:y\n",
            "機車出租了幾天?3\n",
            "機車是在星期幾出租的?Saturday\n",
            "機車的租借費用為:$ 1200.0\n"
          ],
          "name": "stdout"
        }
      ]
    },
    {
      "cell_type": "markdown",
      "metadata": {
        "id": "dNudtVDKZDYG"
      },
      "source": [
        "#25\n",
        "(if判斷式應用與None)"
      ]
    },
    {
      "cell_type": "code",
      "metadata": {
        "colab": {
          "base_uri": "https://localhost:8080/"
        },
        "id": "P3oWhQwmZDI7",
        "outputId": "2f9bff79-ef50-4daa-f144-8440eabe6736"
      },
      "source": [
        "def do_times(n1,n2):\n",
        "  if (n1 is None or n2 is None):\n",
        "    return(\"你少填了被乘數與乘數\")\n",
        "  if (n1==0 or n2==0):\n",
        "    return(\"你的乘數或被乘數為0\")\n",
        "  else:\n",
        "    return n1*n2\n",
        "print(do_times(None,2))\n",
        "print(do_times(2,0))\n",
        "print(do_times(2,3))"
      ],
      "execution_count": null,
      "outputs": [
        {
          "output_type": "stream",
          "text": [
            "你少填了被乘數與乘數\n",
            "你的乘數或被乘數為0\n",
            "6\n"
          ],
          "name": "stdout"
        }
      ]
    },
    {
      "cell_type": "markdown",
      "metadata": {
        "id": "BCF2NUoxZB4j"
      },
      "source": [
        "#26\n",
        "(運算子應用)"
      ]
    },
    {
      "cell_type": "code",
      "metadata": {
        "colab": {
          "base_uri": "https://localhost:8080/"
        },
        "id": "QmL5quTFZBk0",
        "outputId": "1d1d94ee-800f-4308-a0f3-5a33103b2847"
      },
      "source": [
        "a=21\n",
        "b=5\n",
        "print(a/b)\n",
        "print(a//b)\n",
        "print(a%b)"
      ],
      "execution_count": null,
      "outputs": [
        {
          "output_type": "stream",
          "text": [
            "4.2\n",
            "4\n",
            "1\n"
          ],
          "name": "stdout"
        }
      ]
    },
    {
      "cell_type": "markdown",
      "metadata": {
        "id": "jdUDrzExZBK0"
      },
      "source": [
        "#27\n",
        "(while迴圈應用)"
      ]
    },
    {
      "cell_type": "code",
      "metadata": {
        "colab": {
          "base_uri": "https://localhost:8080/"
        },
        "id": "xdxx0sJdZA2r",
        "outputId": "0f248830-a449-49d2-c950-53dd575a47f6"
      },
      "source": [
        "x=0\n",
        "while x<4:\n",
        "  if x//3 == 1:\n",
        "    print(\"Apple\")\n",
        "  elif x-2 == 0:\n",
        "    print(\"Banana\")\n",
        "  elif x%3 == 0:\n",
        "    print(\"Cherry\")\n",
        "  else:\n",
        "    print(\"Fruit\")\n",
        "  x=x+1"
      ],
      "execution_count": null,
      "outputs": [
        {
          "output_type": "stream",
          "text": [
            "Cherry\n",
            "Fruit\n",
            "Banana\n",
            "Apple\n"
          ],
          "name": "stdout"
        }
      ]
    },
    {
      "cell_type": "markdown",
      "metadata": {
        "id": "eAO0OJ2jblPu"
      },
      "source": [
        "#28\n",
        "(list應用)"
      ]
    },
    {
      "cell_type": "code",
      "metadata": {
        "colab": {
          "base_uri": "https://localhost:8080/"
        },
        "id": "In0ZcDwPbkxA",
        "outputId": "24ddf179-e11c-42d7-de7c-9dca2c0c6d47"
      },
      "source": [
        "slist = ['a','b','c','d','e','f']\n",
        "print('f' in slist)"
      ],
      "execution_count": null,
      "outputs": [
        {
          "output_type": "stream",
          "text": [
            "True\n"
          ],
          "name": "stdout"
        }
      ]
    },
    {
      "cell_type": "markdown",
      "metadata": {
        "id": "Djr-kEDZbkZu"
      },
      "source": [
        "#29\n",
        "(==與is的應用)"
      ]
    },
    {
      "cell_type": "code",
      "metadata": {
        "colab": {
          "base_uri": "https://localhost:8080/"
        },
        "id": "gVh4iB5Vbj53",
        "outputId": "67f2e7a7-92f9-4458-d721-eab6bc12f7a9"
      },
      "source": [
        "aList = ['a','b','c','d','e']\n",
        "bList = [1,2,3,4,5]\n",
        "print(aList is bList)\n",
        "print(aList == bList)\n",
        "aList = [1,2,3,4,5]\n",
        "print(aList is bList)\n",
        "print(aList == bList)"
      ],
      "execution_count": null,
      "outputs": [
        {
          "output_type": "stream",
          "text": [
            "False\n",
            "False\n",
            "False\n",
            "True\n"
          ],
          "name": "stdout"
        }
      ]
    },
    {
      "cell_type": "markdown",
      "metadata": {
        "id": "UPp5Uwx3beHe"
      },
      "source": [
        "#30\n",
        "(if判斷式,==與!=的應用)"
      ]
    },
    {
      "cell_type": "code",
      "metadata": {
        "colab": {
          "base_uri": "https://localhost:8080/"
        },
        "id": "oLNbCtA2bd2_",
        "outputId": "a47deba6-ec1c-4d06-e699-537d7b69bc8c"
      },
      "source": [
        "num=eval(input(\"請輸入小於100, 大於或等於50的數字：\"))\n",
        "if num < 100:\n",
        "  if num >= 50:\n",
        "    if num == 50: #原來的=是指定值\n",
        "      print('數字等於50')\n",
        "    else:\n",
        "      print('數字在範圍內')\n",
        "  else:\n",
        "    print('數字小於50')\n",
        "elif num != 100: #原來的<>是錯的\n",
        "  print('數字大於100')\n",
        "else:\n",
        "  print('數字等於100')"
      ],
      "execution_count": null,
      "outputs": [
        {
          "output_type": "stream",
          "text": [
            "請輸入小於100, 大於或等於50的數字：60\n",
            "數字在範圍內\n"
          ],
          "name": "stdout"
        }
      ]
    },
    {
      "cell_type": "markdown",
      "metadata": {
        "id": "wkskry79dSvB"
      },
      "source": [
        "#31\n",
        "(if elif else判斷式應用)"
      ]
    },
    {
      "cell_type": "code",
      "metadata": {
        "colab": {
          "base_uri": "https://localhost:8080/"
        },
        "id": "ZNLgCys2dSR2",
        "outputId": "0990b3e9-5ea2-4a20-ddde-05d1c2fbb846"
      },
      "source": [
        "grade = int(input(\"請輸入分數：\"))\n",
        "if grade >= 90:\n",
        "  letter_grade = 'A'\n",
        "elif grade >= 80:\n",
        "  letter_grade = 'B'\n",
        "elif grade >= 70:\n",
        "  letter_grade = 'C'\n",
        "elif grade >= 60:\n",
        "  letter_grade = 'D'\n",
        "else:\n",
        "  letter_grade = 'E'\n",
        "print(\"你的等級為：\", letter_grade)"
      ],
      "execution_count": null,
      "outputs": [
        {
          "output_type": "stream",
          "text": [
            "請輸入分數：55\n",
            "你的等級為： E\n"
          ],
          "name": "stdout"
        }
      ]
    },
    {
      "cell_type": "markdown",
      "metadata": {
        "id": "Y695URRcdR_e"
      },
      "source": [
        "#33\n",
        "(if判斷式,邏輯與縮牌位置應用)"
      ]
    },
    {
      "cell_type": "code",
      "metadata": {
        "colab": {
          "base_uri": "https://localhost:8080/"
        },
        "id": "EHR_DbAWdRsX",
        "outputId": "1bc56e42-00ba-436c-8c89-b293fc5da14d"
      },
      "source": [
        "def reResult(a):\n",
        "  if a>0:\n",
        "    answer=\"值是正數\"\n",
        "  else:\n",
        "    if a<0 :\n",
        "      answer=\"值是負數\"\n",
        "    else:\n",
        "      answer=\"值是零\"\n",
        "  return answer\n",
        "\n",
        "print(reResult(2))\n",
        "print(reResult(-2))\n",
        "print(reResult(0))"
      ],
      "execution_count": null,
      "outputs": [
        {
          "output_type": "stream",
          "text": [
            "值是正數\n",
            "值是負數\n",
            "值是零\n"
          ],
          "name": "stdout"
        }
      ]
    },
    {
      "cell_type": "markdown",
      "metadata": {
        "id": "2PAxlLtXdREe"
      },
      "source": [
        "#34\n",
        "(if判斷式應用)"
      ]
    },
    {
      "cell_type": "code",
      "metadata": {
        "colab": {
          "base_uri": "https://localhost:8080/"
        },
        "id": "_YXwbXbTdQ4O",
        "outputId": "62bc5803-7be7-4784-ba99-c6dee4291874"
      },
      "source": [
        "def ticket_fee(age,school):\n",
        "  fee=0\n",
        "  if age>=5 and school==True:\n",
        "    fee=150\n",
        "  if age>=5 and school==False:\n",
        "    if age <= 17:\n",
        "      fee=200\n",
        "    else:\n",
        "      fee=300\n",
        "  return fee\n",
        "\n",
        "print(ticket_fee(3, False))\n",
        "print(ticket_fee(10, True))\n",
        "print(ticket_fee(10, False))\n",
        "print(ticket_fee(20, False))"
      ],
      "execution_count": null,
      "outputs": [
        {
          "output_type": "stream",
          "text": [
            "0\n",
            "150\n",
            "200\n",
            "300\n"
          ],
          "name": "stdout"
        }
      ]
    },
    {
      "cell_type": "markdown",
      "metadata": {
        "id": "UrZGXrw0dQtx"
      },
      "source": [
        "#35\n",
        "(if判斷式應用)"
      ]
    },
    {
      "cell_type": "code",
      "metadata": {
        "colab": {
          "base_uri": "https://localhost:8080/"
        },
        "id": "jG6gsZHZdQf2",
        "outputId": "37f34e76-09af-4a8f-af8c-fc8ec2002071"
      },
      "source": [
        "def is_digit(n):\n",
        "  try:\n",
        "    int(n)\n",
        "    return True\n",
        "  except ValueError:\n",
        "    return False\n",
        "num=input(\"請輸入一個正整數:\")\n",
        "if is_digit(num) and int(num)>0:\n",
        "  num=int(eval(num))\n",
        "  if num<10:\n",
        "    digits=\"1\"\n",
        "  elif num<100:\n",
        "    digits=\"2\"\n",
        "  else:\n",
        "    digits=\">2\"\n",
        "  print(digits + \"位數.\")\n",
        "else:\n",
        "  print(\"輸入值並不是數值或正整數\")"
      ],
      "execution_count": null,
      "outputs": [
        {
          "output_type": "stream",
          "text": [
            "請輸入一個正整數:1000\n",
            ">2位數.\n"
          ],
          "name": "stdout"
        }
      ]
    },
    {
      "cell_type": "markdown",
      "metadata": {
        "id": "4stRTwgXdQV3"
      },
      "source": [
        "#36\n",
        "(for迴圈應用與break, contine)"
      ]
    },
    {
      "cell_type": "code",
      "metadata": {
        "colab": {
          "base_uri": "https://localhost:8080/"
        },
        "id": "lw19_tEvdQIe",
        "outputId": "52bd1af9-f04c-48e2-dd2a-8745aeecbdf5"
      },
      "source": [
        "from random import randint\n",
        "answer=randint(1,100) #1~99\n",
        "print(\"猜一個從1到100的整數.你將有3次機會.\")\n",
        "print(answer)\n",
        "for i in range(3):\n",
        "  guess=int(input(\"請輸入一個整數：\"))\n",
        "  if guess > answer:\n",
        "    print(\"數字太大了，猜低一點\")\n",
        "  elif guess < answer:\n",
        "    print(\"數字太小了，猜高一點\")\n",
        "  else:\n",
        "    print(\"猜對了!\")\n",
        "print(\"終極密碼是\", answer)"
      ],
      "execution_count": null,
      "outputs": [
        {
          "output_type": "stream",
          "text": [
            "猜一個從1到100的整數.你將有3次機會.\n",
            "15\n",
            "請輸入一個整數：50\n",
            "數字太大了，猜低一點\n",
            "請輸入一個整數：75\n",
            "數字太大了，猜低一點\n",
            "請輸入一個整數：60\n",
            "數字太大了，猜低一點\n",
            "終極密碼是 15\n"
          ],
          "name": "stdout"
        }
      ]
    },
    {
      "cell_type": "markdown",
      "metadata": {
        "id": "bfogVlORdP93"
      },
      "source": [
        "#37\n",
        "(if判斷式應用)"
      ]
    },
    {
      "cell_type": "code",
      "metadata": {
        "colab": {
          "base_uri": "https://localhost:8080/"
        },
        "id": "60ilRbUTdPv3",
        "outputId": "c926e41f-a9bf-454a-e6c9-f9b97000d7ed"
      },
      "source": [
        "from random import randint\n",
        "num=randint(1,100)\n",
        "if num % 2 == 0:\n",
        "  print(\"%d是偶數\" % num) # %後填入要在字串顯示的值\n",
        "else:\n",
        "  print(\"%d是奇數\" % num)"
      ],
      "execution_count": null,
      "outputs": [
        {
          "output_type": "stream",
          "text": [
            "41是奇數\n"
          ],
          "name": "stdout"
        }
      ]
    },
    {
      "cell_type": "markdown",
      "metadata": {
        "id": "zNBtlyYNdPjH"
      },
      "source": [
        "#38\n",
        "(程式結構重組)"
      ]
    },
    {
      "cell_type": "code",
      "metadata": {
        "colab": {
          "base_uri": "https://localhost:8080/"
        },
        "id": "jVstz45GdPMf",
        "outputId": "9fed9f0f-7ed5-4452-ff31-5e261fb75a1a"
      },
      "source": [
        "en_name=input(\"請輸入英文姓名：\")\n",
        "if en_name.upper() == en_name:\n",
        "  print(en_name, \"是全部大寫.\")\n",
        "elif en_name.lower() == en_name:\n",
        "  print(en_name, \"是全部小寫.\")\n",
        "else:\n",
        "  print(en_name, \"是大小寫混合.\")"
      ],
      "execution_count": null,
      "outputs": [
        {
          "output_type": "stream",
          "text": [
            "請輸入英文姓名：Tony\n",
            "Tony 是大小寫混合.\n"
          ],
          "name": "stdout"
        }
      ]
    },
    {
      "cell_type": "markdown",
      "metadata": {
        "id": "41oYd_ANfcV-"
      },
      "source": [
        "#39\n",
        "(for迴圈與continue)"
      ]
    },
    {
      "cell_type": "code",
      "metadata": {
        "colab": {
          "base_uri": "https://localhost:8080/"
        },
        "id": "2Dpx3a2SfcHH",
        "outputId": "b44255a7-fb67-419e-92dd-5cbb8207b1dc"
      },
      "source": [
        "salaryList=[10000, 24000, 30000, 5000, 14000]\n",
        "for index in range(len(salaryList)): #答案有錯\n",
        "  if salaryList[index]>15000:\n",
        "    continue #continue直接進入下一個迴圈，不執行接下來的命令\n",
        "  salaryList[index]=18000+2000\n",
        "print(salaryList)"
      ],
      "execution_count": null,
      "outputs": [
        {
          "output_type": "stream",
          "text": [
            "[20000, 24000, 30000, 20000, 20000]\n"
          ],
          "name": "stdout"
        }
      ]
    },
    {
      "cell_type": "markdown",
      "metadata": {
        "id": "ul0ZltXSfb4W"
      },
      "source": [
        "#40\n",
        "######(range應用)\n",
        "######(答案選項錯誤)"
      ]
    },
    {
      "cell_type": "code",
      "metadata": {
        "colab": {
          "base_uri": "https://localhost:8080/"
        },
        "id": "oxcz9sVdfbgG",
        "outputId": "70b62685-0102-4d65-b3cf-c662e213b8cd"
      },
      "source": [
        "def show_99(): \n",
        "  for x in range(1,10):\n",
        "    for y in range(1,10):\n",
        "      print(\"{}*{}={}\".format(x,y,x*y))\n",
        "    print() #空白行\n",
        "show_99()"
      ],
      "execution_count": null,
      "outputs": [
        {
          "output_type": "stream",
          "text": [
            "1*1=1\n",
            "1*2=2\n",
            "1*3=3\n",
            "1*4=4\n",
            "1*5=5\n",
            "1*6=6\n",
            "1*7=7\n",
            "1*8=8\n",
            "1*9=9\n",
            "\n",
            "2*1=2\n",
            "2*2=4\n",
            "2*3=6\n",
            "2*4=8\n",
            "2*5=10\n",
            "2*6=12\n",
            "2*7=14\n",
            "2*8=16\n",
            "2*9=18\n",
            "\n",
            "3*1=3\n",
            "3*2=6\n",
            "3*3=9\n",
            "3*4=12\n",
            "3*5=15\n",
            "3*6=18\n",
            "3*7=21\n",
            "3*8=24\n",
            "3*9=27\n",
            "\n",
            "4*1=4\n",
            "4*2=8\n",
            "4*3=12\n",
            "4*4=16\n",
            "4*5=20\n",
            "4*6=24\n",
            "4*7=28\n",
            "4*8=32\n",
            "4*9=36\n",
            "\n",
            "5*1=5\n",
            "5*2=10\n",
            "5*3=15\n",
            "5*4=20\n",
            "5*5=25\n",
            "5*6=30\n",
            "5*7=35\n",
            "5*8=40\n",
            "5*9=45\n",
            "\n",
            "6*1=6\n",
            "6*2=12\n",
            "6*3=18\n",
            "6*4=24\n",
            "6*5=30\n",
            "6*6=36\n",
            "6*7=42\n",
            "6*8=48\n",
            "6*9=54\n",
            "\n",
            "7*1=7\n",
            "7*2=14\n",
            "7*3=21\n",
            "7*4=28\n",
            "7*5=35\n",
            "7*6=42\n",
            "7*7=49\n",
            "7*8=56\n",
            "7*9=63\n",
            "\n",
            "8*1=8\n",
            "8*2=16\n",
            "8*3=24\n",
            "8*4=32\n",
            "8*5=40\n",
            "8*6=48\n",
            "8*7=56\n",
            "8*8=64\n",
            "8*9=72\n",
            "\n",
            "9*1=9\n",
            "9*2=18\n",
            "9*3=27\n",
            "9*4=36\n",
            "9*5=45\n",
            "9*6=54\n",
            "9*7=63\n",
            "9*8=72\n",
            "9*9=81\n",
            "\n"
          ],
          "name": "stdout"
        }
      ]
    },
    {
      "cell_type": "markdown",
      "metadata": {
        "id": "haJIUs_xgnw2"
      },
      "source": [
        "#41\n",
        "(程式結構重組)"
      ]
    },
    {
      "cell_type": "code",
      "metadata": {
        "colab": {
          "base_uri": "https://localhost:8080/"
        },
        "id": "1aqN7nn1gqe2",
        "outputId": "2e108240-d951-462a-ec8f-e6f1e91bc9be"
      },
      "source": [
        "n=2\n",
        "while n<=50:\n",
        "  is_prime=True\n",
        "  for i in range(2,n):\n",
        "    if n % i ==0:\n",
        "      is_prime=False\n",
        "      break\n",
        "  if is_prime==True:\n",
        "    print(n) #p是錯誤的\n",
        "  n+=1\n",
        "  "
      ],
      "execution_count": null,
      "outputs": [
        {
          "output_type": "stream",
          "text": [
            "2\n",
            "3\n",
            "5\n",
            "7\n",
            "11\n",
            "13\n",
            "17\n",
            "19\n",
            "23\n",
            "29\n",
            "31\n",
            "37\n",
            "41\n",
            "43\n",
            "47\n"
          ],
          "name": "stdout"
        }
      ]
    },
    {
      "cell_type": "markdown",
      "metadata": {
        "id": "8KmXPJi3gnpX"
      },
      "source": [
        "#42\n",
        "(程式結構重組)"
      ]
    },
    {
      "cell_type": "code",
      "metadata": {
        "colab": {
          "base_uri": "https://localhost:8080/"
        },
        "id": "N4lw6Zvzgnf5",
        "outputId": "45881e93-9eb7-48f4-ddff-562f6dbd6cf6"
      },
      "source": [
        "def Whoisbigger(numberList, number): #少了def\n",
        "  for i in range(len(numberList)):\n",
        "    if numberList[i] > number:\n",
        "      print(\"{0}清單中找到比{1}大的值\".format(numberList,number))\n",
        "      break\n",
        "    else:\n",
        "      print(\"{0}清單中找不到比{1}大的值\".format(numberList,number))\n",
        "Whoisbigger([1,2,3,4,5,6], 3)"
      ],
      "execution_count": null,
      "outputs": [
        {
          "output_type": "stream",
          "text": [
            "[1, 2, 3, 4, 5, 6]清單中找不到比3大的值\n",
            "[1, 2, 3, 4, 5, 6]清單中找不到比3大的值\n",
            "[1, 2, 3, 4, 5, 6]清單中找不到比3大的值\n",
            "[1, 2, 3, 4, 5, 6]清單中找到比3大的值\n"
          ],
          "name": "stdout"
        }
      ]
    },
    {
      "cell_type": "markdown",
      "metadata": {
        "id": "UTCsd87agnXG"
      },
      "source": [
        "#43\n",
        "(while迴圈應用)"
      ]
    },
    {
      "cell_type": "code",
      "metadata": {
        "colab": {
          "base_uri": "https://localhost:8080/"
        },
        "id": "Qx7cN6bhgnOG",
        "outputId": "6915b877-82bc-49eb-98d0-e389c3bc886f"
      },
      "source": [
        "p_no=\"flag\" #第一次進入while使用，任何非空值之字串皆可以\n",
        "group=\"\"\n",
        "while p_no != \"\": #不輸入值即可跳開\n",
        "  valid=False\n",
        "  p_no=input(\"請輸入產品編號(dddd-dd):\")\n",
        "  group=p_no.split('-')\n",
        "  if len(group)==2: #group被-分開成2群\n",
        "    if len(group[0])==4 and len(group[1])==2:\n",
        "      if group[0].isdigit() and group[1].isdigit():\n",
        "        valid=True\n",
        "  print(valid)"
      ],
      "execution_count": null,
      "outputs": [
        {
          "output_type": "stream",
          "text": [
            "請輸入產品編號(dddd-dd):1-2-3\n",
            "False\n",
            "請輸入產品編號(dddd-dd):fddd-11\n",
            "False\n",
            "請輸入產品編號(dddd-dd):111-222\n",
            "False\n",
            "請輸入產品編號(dddd-dd):1111-22\n",
            "True\n",
            "請輸入產品編號(dddd-dd):\n",
            "False\n"
          ],
          "name": "stdout"
        }
      ]
    },
    {
      "cell_type": "markdown",
      "metadata": {
        "id": "cnYBS2EognE-"
      },
      "source": [
        "#44\n",
        "(while迴圈應用)"
      ]
    },
    {
      "cell_type": "code",
      "metadata": {
        "id": "-ZxZy0Q5gm8B",
        "colab": {
          "base_uri": "https://localhost:8080/"
        },
        "outputId": "0ed06d94-3a30-4d59-cd3f-c5859bd717a1"
      },
      "source": [
        "numList=range(10) #[0,1,2,3,4,5,6,7,8,9]\n",
        "num=0\n",
        "while (num<10):\n",
        "  print(numList[num])\n",
        "  if numList[num] == 8:\n",
        "    break\n",
        "  else:\n",
        "    num +=1\n",
        "0"
      ],
      "execution_count": null,
      "outputs": [
        {
          "output_type": "stream",
          "text": [
            "0\n",
            "1\n",
            "2\n",
            "3\n",
            "4\n",
            "5\n",
            "6\n",
            "7\n",
            "8\n"
          ],
          "name": "stdout"
        },
        {
          "output_type": "execute_result",
          "data": {
            "text/plain": [
              "0"
            ]
          },
          "metadata": {
            "tags": []
          },
          "execution_count": 1
        }
      ]
    },
    {
      "cell_type": "markdown",
      "metadata": {
        "id": "20g3NBTtgmz-"
      },
      "source": [
        "#45\n",
        "(os開檔、寫檔)"
      ]
    },
    {
      "cell_type": "code",
      "metadata": {
        "id": "F0yYVrxlgmny",
        "colab": {
          "base_uri": "https://localhost:8080/"
        },
        "outputId": "700b06af-5bf9-4362-cb79-9aa65dede492"
      },
      "source": [
        "import os\n",
        "if os.path.isfile('usefile.txt'):\n",
        "  file=open('usefile.txt')\n",
        "  print(file.read())\n",
        "  file.close()\n",
        "else: #題目少了這一行\n",
        "  file=open('usefile.txt','a') #a是新增檔案, a+是附加檔案\n",
        "  file.write('這是檔尾')\n",
        "  file.close"
      ],
      "execution_count": null,
      "outputs": [
        {
          "output_type": "stream",
          "text": [
            "這是檔尾\n"
          ],
          "name": "stdout"
        }
      ]
    },
    {
      "cell_type": "markdown",
      "metadata": {
        "id": "Z37f7FG8gmfe"
      },
      "source": [
        "#46\n",
        "(os開檔)"
      ]
    },
    {
      "cell_type": "code",
      "metadata": {
        "id": "zyuLL2GzgmWH",
        "colab": {
          "base_uri": "https://localhost:8080/",
          "height": 35
        },
        "outputId": "78ac957f-06a4-4bf1-ed6d-7f775c2a81ad"
      },
      "source": [
        "import os\n",
        "def get_file_content(usefile):\n",
        "  if os.path.isfile(usefile):\n",
        "    with open(usefile, 'r') as file:\n",
        "      return file.read() #題目usefle.read()是錯誤的\n",
        "  else:\n",
        "    return \"檔案不存在\"\n",
        "\n",
        "get_file_content(\"usefile.txt\")"
      ],
      "execution_count": null,
      "outputs": [
        {
          "output_type": "execute_result",
          "data": {
            "application/vnd.google.colaboratory.intrinsic+json": {
              "type": "string"
            },
            "text/plain": [
              "'這是檔尾'"
            ]
          },
          "metadata": {
            "tags": []
          },
          "execution_count": 4
        }
      ]
    },
    {
      "cell_type": "markdown",
      "metadata": {
        "id": "zIZF5Pu9gmMP"
      },
      "source": [
        "#47\n",
        "######(開檔屬性應用) \n",
        "######(r:讀取, a:附加, w:寫入) \n",
        "######(r+:除了讀取，還有寫入功能，檔案不存在會回傳error) \n",
        "######(a+:除了附加,還有讀取功能) \n",
        "######(w+:除了寫入,還有讀取功能,和r+不同處在於檔案不存在會新增一個檔)"
      ]
    },
    {
      "cell_type": "markdown",
      "metadata": {
        "id": "zl5WVfj8VXBh"
      },
      "source": [
        "#48\n",
        "######(開檔讀資料) \n",
        "######(需新增一個staffs.txt檔案)"
      ]
    },
    {
      "cell_type": "code",
      "metadata": {
        "colab": {
          "base_uri": "https://localhost:8080/"
        },
        "id": "1ShylPkyYBDG",
        "outputId": "48e51c45-c19b-4234-db27-28a5364b79c0"
      },
      "source": [
        "import os #題目忘了這行\n",
        "staffs = open(\"staffs.txt\" , 'r')\n",
        "eof = False\n",
        "while eof == False:\n",
        "  line = staffs.readline()\n",
        "  if line != '':\n",
        "    if line != \"\\n\":\n",
        "      print(line.strip()) #strip()去除頭尾空白\n",
        "  else:\n",
        "    print(\"檔案結束\")\n",
        "    eof = True\n",
        "staffs.close()"
      ],
      "execution_count": null,
      "outputs": [
        {
          "output_type": "stream",
          "text": [
            "'Sales', 1, 'John'\n",
            "'Sales', 2, 'Mary'\n",
            "檔案結束\n"
          ],
          "name": "stdout"
        }
      ]
    },
    {
      "cell_type": "markdown",
      "metadata": {
        "id": "qN24XRM4glyW"
      },
      "source": [
        "#49\n",
        "(input與格式應用)"
      ]
    },
    {
      "cell_type": "code",
      "metadata": {
        "id": "VO94VPdSgloq",
        "colab": {
          "base_uri": "https://localhost:8080/"
        },
        "outputId": "c3ba47ba-7d49-4006-d9fa-7c3f9a643d2d"
      },
      "source": [
        "star=star_count=star_done=0\n",
        "star_average=0.0\n",
        "while (star_done!=-1):\n",
        "  star_rating=float(input(\"請輸入評等(1-5),完成請輸入-1：\")) #題目star拼錯\n",
        "  if star_rating == -1:\n",
        "    break\n",
        "  star += star_rating\n",
        "  star_count += 1\n",
        "star_average = float(star/star_count)\n",
        "print(\"餐廳的平均星等是：{}\".format(star_average, '.2f')) #少了{},format少了一個."
      ],
      "execution_count": null,
      "outputs": [
        {
          "output_type": "stream",
          "text": [
            "請輸入評等(1-5),完成請輸入-1：1\n",
            "請輸入評等(1-5),完成請輸入-1：2\n",
            "請輸入評等(1-5),完成請輸入-1：3\n",
            "請輸入評等(1-5),完成請輸入-1：-1\n",
            "餐廳的平均星等是：2.0\n"
          ],
          "name": "stdout"
        }
      ]
    },
    {
      "cell_type": "markdown",
      "metadata": {
        "id": "xHgSvirgglfe"
      },
      "source": [
        "#50\n",
        "######(datetime fomat格式應用)\n",
        "######%a : 星期縮寫 　　　　　(Mon)\n",
        "######%A : 星期全寫 　　　　　(Monday)\n",
        "######%w : 星期數字 　　　　　(0 … 6)\n",
        "######%d : 日期 　　　　　　　(01 … 31)\n",
        "######%b : 月份縮寫 　　　　　(Jan)\n",
        "######%B : 月份全寫 　　　　　(January)\n",
        "######%m : 月份數字 　　　　　(01 … 12)\n",
        "######%y : 西元年二位數字 　　(00 … 99)\n",
        "######%Y : 西元年 　　　　　　(1970 … 2018)\n",
        "######%H : 24小時制 　　　　　(00 … 23)\n",
        "######%I : 12小時制 　　　　　(01 … 12)\n",
        "######%p : AM 或 PM\n",
        "######%M : 分 　　　　　　　　(00 … 59)\n",
        "######%S : 秒 　　　　　　　　(00 … 59)\n",
        "######%f : 微秒，六位數字 　　(000000 … 999999)\n",
        "######%c : 日期和時間 　　　　(Tue Aug 16 21:30:00 2017)\n",
        "######%x : 日期 　　　　　　　(08/16/2017)\n",
        "######%X : 時間 　　　　　　　(21:30:00)"
      ]
    },
    {
      "cell_type": "code",
      "metadata": {
        "id": "VOU76Ae6glUP",
        "colab": {
          "base_uri": "https://localhost:8080/"
        },
        "outputId": "285e14c8-56ac-48bf-f429-c4c49e3ea09f"
      },
      "source": [
        "import datetime\n",
        "data=datetime.datetime(2019,5,16)\n",
        "print(data)\n",
        "print('{:%y-%m-%d}'.format(data)) #%y兩位數 %Y四位數 \n",
        "num=12345.6789\n",
        "print('{:,.2f}'.format(num)) # :特殊格式化符號 ,三位數加一個逗號 .2f:兩位小數點"
      ],
      "execution_count": null,
      "outputs": [
        {
          "output_type": "stream",
          "text": [
            "2019-05-16 00:00:00\n",
            "19-05-16\n",
            "12,345.68\n"
          ],
          "name": "stdout"
        }
      ]
    },
    {
      "cell_type": "markdown",
      "metadata": {
        "id": "JzhBL1wuglJ2"
      },
      "source": [
        "#51\n",
        "(列印格式化)"
      ]
    },
    {
      "cell_type": "code",
      "metadata": {
        "id": "hg7gTe_ggk4f",
        "colab": {
          "base_uri": "https://localhost:8080/"
        },
        "outputId": "bd5620c3-a642-4d04-99bc-2300e6e2717a"
      },
      "source": [
        "name=input(\"請輸入姓名：\")\n",
        "sum=score=count=0\n",
        "while (score != -1):\n",
        "  score=int(input(\"輸入你的分數(輸入-1結束程式：\"))\n",
        "  if score == -1:\n",
        "    break\n",
        "  sum += score\n",
        "  count += 1\n",
        "average=sum/count\n",
        "print(\"%-10s, 你的平均分數是: %7.3f\" %(name,average)) #正號(+)靠右對齊,負號(-)靠左對期,10s代表字串長度最長為10,7.3f代表總寬度是7,整數位數是3,小數點是1,小數點後位數是3"
      ],
      "execution_count": null,
      "outputs": [
        {
          "output_type": "stream",
          "text": [
            "請輸入姓名：tony\n",
            "輸入你的分數(輸入-1結束程式：120\n",
            "輸入你的分數(輸入-1結束程式：130\n",
            "輸入你的分數(輸入-1結束程式：140\n",
            "輸入你的分數(輸入-1結束程式：-1\n",
            "tony      , 你的平均分數是: 130.000\n"
          ],
          "name": "stdout"
        }
      ]
    },
    {
      "cell_type": "markdown",
      "metadata": {
        "id": "6hleDO7foyTc"
      },
      "source": [
        "#52\n",
        "######(開檔列印格式化)\n",
        "######(需新增staff.txt,資料用,分開)"
      ]
    },
    {
      "cell_type": "code",
      "metadata": {
        "colab": {
          "base_uri": "https://localhost:8080/"
        },
        "id": "aGQp3M93ox50",
        "outputId": "0a7eed84-eb2d-4e5c-a37c-0b360a244ff3"
      },
      "source": [
        "import os #少了這行\n",
        "def print_cartable(file):\n",
        "  data=open(file,'r')\n",
        "  for record in data:\n",
        "    fields=record.split(\",\")\n",
        "    print(\"{0:10} {1:5.1f} {2:7.2f}\".format(fields[0], eval(fields[1]),eval(fields[2]))) #0,1,2代表後面哪一筆資料\n",
        "print_cartable(\"staff.txt\")"
      ],
      "execution_count": null,
      "outputs": [
        {
          "output_type": "stream",
          "text": [
            "Acar         2.0   95.00\n",
            "Bcar         1.5   72.00\n",
            "Ccar         2.5  120.00\n"
          ],
          "name": "stdout"
        }
      ]
    },
    {
      "cell_type": "markdown",
      "metadata": {
        "id": "1ccCGg5Toxhl"
      },
      "source": [
        "#53\n",
        "(列印格式化)"
      ]
    },
    {
      "cell_type": "code",
      "metadata": {
        "colab": {
          "base_uri": "https://localhost:8080/"
        },
        "id": "Tidw7c1Aow-_",
        "outputId": "2db45265-accd-4040-e658-281f583379a0"
      },
      "source": [
        "p_name=input(\"輸入名稱：\")\n",
        "p_qty=input(\"輸入數量：\")\n",
        "print('\"{0}\",{1}'.format(p_name,p_qty)) #format寫法\n",
        "print('\"'+ p_name + '\",' + p_qty) #字串相加+\n",
        "print('\"%s\",%s' % (p_name, p_qty)) #舊式%寫法\n",
        "print(\"{0},{1}\".format(p_name,p_qty)) #少了\""
      ],
      "execution_count": null,
      "outputs": [
        {
          "output_type": "stream",
          "text": [
            "輸入名稱：box\n",
            "輸入數量：10\n",
            "\"box\",10\n",
            "\"box\",10\n",
            "\"box\",10\n",
            "box,10\n"
          ],
          "name": "stdout"
        }
      ]
    },
    {
      "cell_type": "markdown",
      "metadata": {
        "id": "WN2K4pKnowXi"
      },
      "source": [
        "#54\n",
        "(input應用)"
      ]
    },
    {
      "cell_type": "code",
      "metadata": {
        "colab": {
          "base_uri": "https://localhost:8080/"
        },
        "id": "x2Fdxg93ov9x",
        "outputId": "db89478e-a6e4-4528-f7b7-494378cd869e"
      },
      "source": [
        "print(\"請輸入年齡：\")\n",
        "user_age=input()\n",
        "print(user_age)"
      ],
      "execution_count": null,
      "outputs": [
        {
          "output_type": "stream",
          "text": [
            "請輸入年齡：\n",
            "20\n",
            "20\n"
          ],
          "name": "stdout"
        }
      ]
    },
    {
      "cell_type": "markdown",
      "metadata": {
        "id": "ysL7KSaOovqN"
      },
      "source": [
        "#55\n",
        "(註解#)"
      ]
    },
    {
      "cell_type": "code",
      "metadata": {
        "id": "HJnNjr9oovSX"
      },
      "source": [
        "def get_pname():\n",
        "  #顯示商品名稱\n",
        "  return pname"
      ],
      "execution_count": null,
      "outputs": []
    },
    {
      "cell_type": "markdown",
      "metadata": {
        "id": "TER6kPw4wjcm"
      },
      "source": [
        "#56\n",
        "(註解#)"
      ]
    },
    {
      "cell_type": "markdown",
      "metadata": {
        "id": "OS_kQHSUou-v"
      },
      "source": [
        "#57\n",
        "(字串內的#號)"
      ]
    },
    {
      "cell_type": "code",
      "metadata": {
        "id": "v3QZrLIZounn"
      },
      "source": [
        "#calc_times函式計算二數乘積\n",
        "#x是被乘數\n",
        "#y是乘數\n",
        "#返回x*y的值\n",
        "def cal_times(x,y):\n",
        "  comment=\"#返回值\"  #前面的#會被當作字串\n",
        "  return x*y  #x*y"
      ],
      "execution_count": null,
      "outputs": []
    },
    {
      "cell_type": "markdown",
      "metadata": {
        "id": "C5n7FsJuouTZ"
      },
      "source": [
        "#58\n",
        "(函式應用)"
      ]
    },
    {
      "cell_type": "code",
      "metadata": {
        "colab": {
          "base_uri": "https://localhost:8080/"
        },
        "id": "qfpMJJ3uot6m",
        "outputId": "60d9550e-6a53-4c4f-c1e7-28da1a6b8b4d"
      },
      "source": [
        "def get_name():\n",
        "  name=input(\"請輸入你的姓名：\")\n",
        "  return name\n",
        "def calc_calories(km,cpk):\n",
        "  calories=km*cpk\n",
        "  return calories\n",
        "distance = int(input(\"請問你騎了幾公里?\"))\n",
        "burn_rate=50\n",
        "biker=get_name()\n",
        "calories_burned=calc_calories(distance, burn_rate)\n",
        "print(biker,\",你燃燒了大約\", calories_burned,\"卡路里\")"
      ],
      "execution_count": null,
      "outputs": [
        {
          "output_type": "stream",
          "text": [
            "請問你騎了幾公里?10\n",
            "請輸入你的姓名：tony\n",
            "tony ,你燃燒了大約 500 卡路里\n"
          ],
          "name": "stdout"
        }
      ]
    },
    {
      "cell_type": "markdown",
      "metadata": {
        "id": "PsDaQ_Bwotm_"
      },
      "source": [
        "#59\n",
        "######(參數預設值應用)\n",
        "######(本題沒有題號，答案應該是A)"
      ]
    },
    {
      "cell_type": "code",
      "metadata": {
        "colab": {
          "base_uri": "https://localhost:8080/"
        },
        "id": "BqGbV4bpotRP",
        "outputId": "4cd6a300-74cc-4f18-bae2-49ed51445a94"
      },
      "source": [
        "def calc_score(total, double, scores=1):\n",
        "  if double==True:\n",
        "    scores=scores*2\n",
        "  total=total+scores\n",
        "  return total\n",
        "scores=5\n",
        "total=10\n",
        "new_score=calc_score(total, True, scores)\n",
        "print(new_score)\n",
        "new_score=calc_score(total,True)\n",
        "print(new_score)"
      ],
      "execution_count": null,
      "outputs": [
        {
          "output_type": "stream",
          "text": [
            "20\n",
            "12\n"
          ],
          "name": "stdout"
        }
      ]
    },
    {
      "cell_type": "markdown",
      "metadata": {
        "id": "d9fGdo_Gos7n"
      },
      "source": [
        "#60\n",
        "(函式應用)"
      ]
    },
    {
      "cell_type": "code",
      "metadata": {
        "colab": {
          "base_uri": "https://localhost:8080/"
        },
        "id": "xoqE9M87osmK",
        "outputId": "5b399355-ae14-4553-d9e9-b122bf43933c"
      },
      "source": [
        "def add_score(current, value):\n",
        "  current += value\n",
        "  return current\n",
        "print(add_score(80,10))"
      ],
      "execution_count": null,
      "outputs": [
        {
          "output_type": "stream",
          "text": [
            "90\n"
          ],
          "name": "stdout"
        }
      ]
    },
    {
      "cell_type": "markdown",
      "metadata": {
        "id": "SQjzzKkixgTk"
      },
      "source": [
        "#61\n",
        "(try except應用)"
      ]
    },
    {
      "cell_type": "code",
      "metadata": {
        "colab": {
          "base_uri": "https://localhost:8080/"
        },
        "id": "8Vz3Y7hBxf8K",
        "outputId": "fddb3628-ba0f-430b-f3d7-fcf8298529a4"
      },
      "source": [
        "try: \n",
        "  file1=open(\"file1.txt\", 'r') #開檔案來讀取\n",
        "  file2=open(\"file2.txt\", 'w+') #開檔案來寫入，若存在則覆蓋 \n",
        "except IOError:\n",
        "  print(\"檔案不存在\")\n",
        "else:\n",
        "  i=1\n",
        "  for line in file1:\n",
        "    print(line.rstrip())\n",
        "    file2.write(\"line \" + str(i) + \":\" + line)\n",
        "    i=i+1\n",
        "  file1.close()\n",
        "  file2.close()"
      ],
      "execution_count": null,
      "outputs": [
        {
          "output_type": "stream",
          "text": [
            "檔案不存在\n"
          ],
          "name": "stdout"
        }
      ]
    },
    {
      "cell_type": "markdown",
      "metadata": {
        "id": "AogDnyThxfm7"
      },
      "source": [
        "#62\n",
        "(錯誤偵錯)"
      ]
    },
    {
      "cell_type": "code",
      "metadata": {
        "colab": {
          "base_uri": "https://localhost:8080/",
          "height": 130
        },
        "id": "EFnhKW6qxfOo",
        "outputId": "4e10d872-d14a-44d9-a587-7ac8d31e97d6"
      },
      "source": [
        "import math\n",
        "#default motion for car\n",
        "go = True\n",
        "move = 0\n",
        "while(go):\n",
        "  if move == 0: #原始沒有縮排\n",
        "  go_dist = math.pi / move #會產生除以0的錯誤\n",
        "  move += 5\n",
        "else:\n",
        "  go_dist =0\n",
        "  move = 0"
      ],
      "execution_count": null,
      "outputs": [
        {
          "output_type": "error",
          "ename": "IndentationError",
          "evalue": "ignored",
          "traceback": [
            "\u001b[0;36m  File \u001b[0;32m\"<ipython-input-43-0fa50c6affad>\"\u001b[0;36m, line \u001b[0;32m7\u001b[0m\n\u001b[0;31m    go_dist = math.pi / move #會產生除以0的錯誤\u001b[0m\n\u001b[0m          ^\u001b[0m\n\u001b[0;31mIndentationError\u001b[0m\u001b[0;31m:\u001b[0m expected an indented block\n"
          ]
        }
      ]
    },
    {
      "cell_type": "markdown",
      "metadata": {
        "id": "p-pyg1wyxe6m"
      },
      "source": [
        "#63\n",
        "(range函式與//應用)"
      ]
    },
    {
      "cell_type": "code",
      "metadata": {
        "colab": {
          "base_uri": "https://localhost:8080/"
        },
        "id": "gEOH6gXJxejr",
        "outputId": "9fcb8d43-d34d-4fc1-ba94-effafc3c8f5a"
      },
      "source": [
        "scores=[90,80,82,76]\n",
        "count=0\n",
        "sum=0\n",
        "for index in range(0, len(scores)): #range函式(起始點,不包含終止點)\n",
        "  count += 1\n",
        "  sum += scores[index]\n",
        "average = sum / count #//是求餘數,/才是除法\n",
        "print(\"總計分數是：\",sum)\n",
        "print(\"平均分數是：\", average)"
      ],
      "execution_count": null,
      "outputs": [
        {
          "output_type": "stream",
          "text": [
            "總計分數是： 328\n",
            "平均分數是： 82.0\n"
          ],
          "name": "stdout"
        }
      ]
    },
    {
      "cell_type": "markdown",
      "metadata": {
        "id": "XjHUlHjwxeP5"
      },
      "source": [
        "#64\n",
        "######(縮排應用)\n",
        "######(準備usefile.txt)"
      ]
    },
    {
      "cell_type": "code",
      "metadata": {
        "colab": {
          "base_uri": "https://localhost:8080/"
        },
        "id": "76nA_6Qzxd3K",
        "outputId": "6d5e417c-1c5d-4123-86d0-79876e37a2ba"
      },
      "source": [
        "import os\n",
        "def read_filename(file):\n",
        "  line= None\n",
        "  if os.path.isfile(file):\n",
        "    readfile = open(file, 'r')\n",
        "    while line != '':  #此處應該縮排\n",
        "      line=readfile.readline() #此處應該縮排\n",
        "      print(line)       #此處應該縮排  \n",
        "read_filename(\"usefile.txt\")"
      ],
      "execution_count": null,
      "outputs": [
        {
          "output_type": "stream",
          "text": [
            "test1\n",
            "\n",
            "test2\n",
            "\n",
            "test3\n",
            "\n"
          ],
          "name": "stdout"
        }
      ]
    },
    {
      "cell_type": "markdown",
      "metadata": {
        "id": "yqYIEXiDxdim"
      },
      "source": [
        "#65\n",
        "(list使用方式為[], 以及:應用)"
      ]
    },
    {
      "cell_type": "code",
      "metadata": {
        "colab": {
          "base_uri": "https://localhost:8080/"
        },
        "id": "VBX_VtiVxdN2",
        "outputId": "c2446bba-e3e4-48ee-c53d-8a4b9d7e3c68"
      },
      "source": [
        "nList = range(10)\n",
        "no = 0\n",
        "while (no<10): #少了:\n",
        "  print(nList[no])\n",
        "  if nList[no] == 5: #nlist(no)改成nList[no], =改成==, 少了:\n",
        "    break\n",
        "  else:\n",
        "    no += 3"
      ],
      "execution_count": null,
      "outputs": [
        {
          "output_type": "stream",
          "text": [
            "0\n",
            "3\n",
            "6\n",
            "9\n"
          ],
          "name": "stdout"
        }
      ]
    },
    {
      "cell_type": "markdown",
      "metadata": {
        "id": "MCRWWkVzxc50"
      },
      "source": [
        "#66\n",
        "(try except finally應用)"
      ]
    },
    {
      "cell_type": "code",
      "metadata": {
        "id": "xQ738nUJxclF"
      },
      "source": [
        "#try:\n",
        "#  運算式\n",
        "#except 錯誤情況1:\n",
        "#  處理方式1\n",
        "#except 錯誤情況2:\n",
        "#  處理方式2\n",
        "#  ...\n",
        "#finally:\n",
        "#  一定會執行到的命令"
      ],
      "execution_count": null,
      "outputs": []
    },
    {
      "cell_type": "markdown",
      "metadata": {
        "id": "yY7wVxfexcQ0"
      },
      "source": [
        "\n",
        "#67\n",
        "(try except錯誤處理)"
      ]
    },
    {
      "cell_type": "code",
      "metadata": {
        "colab": {
          "base_uri": "https://localhost:8080/",
          "height": 624
        },
        "id": "EYoMIZnLxb6f",
        "outputId": "a9632463-d4eb-49ec-cfa7-0a6363754f1a"
      },
      "source": [
        "while True:\n",
        "  try:\n",
        "    x=int(input(\"請輸入一個被除數：\"))\n",
        "    y=int(input(\"請輸入一個除數：\"))\n",
        "    result = x / y\n",
        "  except ZeroDivisionError:\n",
        "    print(\"除數不能為零，再試一次...\")\n",
        "  else:\n",
        "    print(result)"
      ],
      "execution_count": null,
      "outputs": [
        {
          "output_type": "stream",
          "text": [
            "請輸入一個被除數：10\n",
            "請輸入一個除數：0\n",
            "除數不能為零，再試一次...\n",
            "請輸入一個被除數：10\n",
            "請輸入一個除數：2\n",
            "5.0\n"
          ],
          "name": "stdout"
        },
        {
          "output_type": "error",
          "ename": "KeyboardInterrupt",
          "evalue": "ignored",
          "traceback": [
            "\u001b[0;31m---------------------------------------------------------------------------\u001b[0m",
            "\u001b[0;31mKeyboardInterrupt\u001b[0m                         Traceback (most recent call last)",
            "\u001b[0;32m/usr/local/lib/python3.7/dist-packages/ipykernel/kernelbase.py\u001b[0m in \u001b[0;36m_input_request\u001b[0;34m(self, prompt, ident, parent, password)\u001b[0m\n\u001b[1;32m    728\u001b[0m             \u001b[0;32mtry\u001b[0m\u001b[0;34m:\u001b[0m\u001b[0;34m\u001b[0m\u001b[0;34m\u001b[0m\u001b[0m\n\u001b[0;32m--> 729\u001b[0;31m                 \u001b[0mident\u001b[0m\u001b[0;34m,\u001b[0m \u001b[0mreply\u001b[0m \u001b[0;34m=\u001b[0m \u001b[0mself\u001b[0m\u001b[0;34m.\u001b[0m\u001b[0msession\u001b[0m\u001b[0;34m.\u001b[0m\u001b[0mrecv\u001b[0m\u001b[0;34m(\u001b[0m\u001b[0mself\u001b[0m\u001b[0;34m.\u001b[0m\u001b[0mstdin_socket\u001b[0m\u001b[0;34m,\u001b[0m \u001b[0;36m0\u001b[0m\u001b[0;34m)\u001b[0m\u001b[0;34m\u001b[0m\u001b[0;34m\u001b[0m\u001b[0m\n\u001b[0m\u001b[1;32m    730\u001b[0m             \u001b[0;32mexcept\u001b[0m \u001b[0mException\u001b[0m\u001b[0;34m:\u001b[0m\u001b[0;34m\u001b[0m\u001b[0;34m\u001b[0m\u001b[0m\n",
            "\u001b[0;32m/usr/local/lib/python3.7/dist-packages/jupyter_client/session.py\u001b[0m in \u001b[0;36mrecv\u001b[0;34m(self, socket, mode, content, copy)\u001b[0m\n\u001b[1;32m    802\u001b[0m         \u001b[0;32mtry\u001b[0m\u001b[0;34m:\u001b[0m\u001b[0;34m\u001b[0m\u001b[0;34m\u001b[0m\u001b[0m\n\u001b[0;32m--> 803\u001b[0;31m             \u001b[0mmsg_list\u001b[0m \u001b[0;34m=\u001b[0m \u001b[0msocket\u001b[0m\u001b[0;34m.\u001b[0m\u001b[0mrecv_multipart\u001b[0m\u001b[0;34m(\u001b[0m\u001b[0mmode\u001b[0m\u001b[0;34m,\u001b[0m \u001b[0mcopy\u001b[0m\u001b[0;34m=\u001b[0m\u001b[0mcopy\u001b[0m\u001b[0;34m)\u001b[0m\u001b[0;34m\u001b[0m\u001b[0;34m\u001b[0m\u001b[0m\n\u001b[0m\u001b[1;32m    804\u001b[0m         \u001b[0;32mexcept\u001b[0m \u001b[0mzmq\u001b[0m\u001b[0;34m.\u001b[0m\u001b[0mZMQError\u001b[0m \u001b[0;32mas\u001b[0m \u001b[0me\u001b[0m\u001b[0;34m:\u001b[0m\u001b[0;34m\u001b[0m\u001b[0;34m\u001b[0m\u001b[0m\n",
            "\u001b[0;32m/usr/local/lib/python3.7/dist-packages/zmq/sugar/socket.py\u001b[0m in \u001b[0;36mrecv_multipart\u001b[0;34m(self, flags, copy, track)\u001b[0m\n\u001b[1;32m    582\u001b[0m         \"\"\"\n\u001b[0;32m--> 583\u001b[0;31m         \u001b[0mparts\u001b[0m \u001b[0;34m=\u001b[0m \u001b[0;34m[\u001b[0m\u001b[0mself\u001b[0m\u001b[0;34m.\u001b[0m\u001b[0mrecv\u001b[0m\u001b[0;34m(\u001b[0m\u001b[0mflags\u001b[0m\u001b[0;34m,\u001b[0m \u001b[0mcopy\u001b[0m\u001b[0;34m=\u001b[0m\u001b[0mcopy\u001b[0m\u001b[0;34m,\u001b[0m \u001b[0mtrack\u001b[0m\u001b[0;34m=\u001b[0m\u001b[0mtrack\u001b[0m\u001b[0;34m)\u001b[0m\u001b[0;34m]\u001b[0m\u001b[0;34m\u001b[0m\u001b[0;34m\u001b[0m\u001b[0m\n\u001b[0m\u001b[1;32m    584\u001b[0m         \u001b[0;31m# have first part already, only loop while more to receive\u001b[0m\u001b[0;34m\u001b[0m\u001b[0;34m\u001b[0m\u001b[0;34m\u001b[0m\u001b[0m\n",
            "\u001b[0;32mzmq/backend/cython/socket.pyx\u001b[0m in \u001b[0;36mzmq.backend.cython.socket.Socket.recv\u001b[0;34m()\u001b[0m\n",
            "\u001b[0;32mzmq/backend/cython/socket.pyx\u001b[0m in \u001b[0;36mzmq.backend.cython.socket.Socket.recv\u001b[0;34m()\u001b[0m\n",
            "\u001b[0;32mzmq/backend/cython/socket.pyx\u001b[0m in \u001b[0;36mzmq.backend.cython.socket._recv_copy\u001b[0;34m()\u001b[0m\n",
            "\u001b[0;32m/usr/local/lib/python3.7/dist-packages/zmq/backend/cython/checkrc.pxd\u001b[0m in \u001b[0;36mzmq.backend.cython.checkrc._check_rc\u001b[0;34m()\u001b[0m\n",
            "\u001b[0;31mKeyboardInterrupt\u001b[0m: ",
            "\nDuring handling of the above exception, another exception occurred:\n",
            "\u001b[0;31mKeyboardInterrupt\u001b[0m                         Traceback (most recent call last)",
            "\u001b[0;32m<ipython-input-49-c783a886fa46>\u001b[0m in \u001b[0;36m<module>\u001b[0;34m()\u001b[0m\n\u001b[1;32m      1\u001b[0m \u001b[0;32mwhile\u001b[0m \u001b[0;32mTrue\u001b[0m\u001b[0;34m:\u001b[0m\u001b[0;34m\u001b[0m\u001b[0;34m\u001b[0m\u001b[0m\n\u001b[1;32m      2\u001b[0m   \u001b[0;32mtry\u001b[0m\u001b[0;34m:\u001b[0m\u001b[0;34m\u001b[0m\u001b[0;34m\u001b[0m\u001b[0m\n\u001b[0;32m----> 3\u001b[0;31m     \u001b[0mx\u001b[0m\u001b[0;34m=\u001b[0m\u001b[0mint\u001b[0m\u001b[0;34m(\u001b[0m\u001b[0minput\u001b[0m\u001b[0;34m(\u001b[0m\u001b[0;34m\"請輸入一個被除數：\"\u001b[0m\u001b[0;34m)\u001b[0m\u001b[0;34m)\u001b[0m\u001b[0;34m\u001b[0m\u001b[0;34m\u001b[0m\u001b[0m\n\u001b[0m\u001b[1;32m      4\u001b[0m     \u001b[0my\u001b[0m\u001b[0;34m=\u001b[0m\u001b[0mint\u001b[0m\u001b[0;34m(\u001b[0m\u001b[0minput\u001b[0m\u001b[0;34m(\u001b[0m\u001b[0;34m\"請輸入一個除數：\"\u001b[0m\u001b[0;34m)\u001b[0m\u001b[0;34m)\u001b[0m\u001b[0;34m\u001b[0m\u001b[0;34m\u001b[0m\u001b[0m\n\u001b[1;32m      5\u001b[0m     \u001b[0mresult\u001b[0m \u001b[0;34m=\u001b[0m \u001b[0mx\u001b[0m \u001b[0;34m/\u001b[0m \u001b[0my\u001b[0m\u001b[0;34m\u001b[0m\u001b[0;34m\u001b[0m\u001b[0m\n",
            "\u001b[0;32m/usr/local/lib/python3.7/dist-packages/ipykernel/kernelbase.py\u001b[0m in \u001b[0;36mraw_input\u001b[0;34m(self, prompt)\u001b[0m\n\u001b[1;32m    702\u001b[0m             \u001b[0mself\u001b[0m\u001b[0;34m.\u001b[0m\u001b[0m_parent_ident\u001b[0m\u001b[0;34m,\u001b[0m\u001b[0;34m\u001b[0m\u001b[0;34m\u001b[0m\u001b[0m\n\u001b[1;32m    703\u001b[0m             \u001b[0mself\u001b[0m\u001b[0;34m.\u001b[0m\u001b[0m_parent_header\u001b[0m\u001b[0;34m,\u001b[0m\u001b[0;34m\u001b[0m\u001b[0;34m\u001b[0m\u001b[0m\n\u001b[0;32m--> 704\u001b[0;31m             \u001b[0mpassword\u001b[0m\u001b[0;34m=\u001b[0m\u001b[0;32mFalse\u001b[0m\u001b[0;34m,\u001b[0m\u001b[0;34m\u001b[0m\u001b[0;34m\u001b[0m\u001b[0m\n\u001b[0m\u001b[1;32m    705\u001b[0m         )\n\u001b[1;32m    706\u001b[0m \u001b[0;34m\u001b[0m\u001b[0m\n",
            "\u001b[0;32m/usr/local/lib/python3.7/dist-packages/ipykernel/kernelbase.py\u001b[0m in \u001b[0;36m_input_request\u001b[0;34m(self, prompt, ident, parent, password)\u001b[0m\n\u001b[1;32m    732\u001b[0m             \u001b[0;32mexcept\u001b[0m \u001b[0mKeyboardInterrupt\u001b[0m\u001b[0;34m:\u001b[0m\u001b[0;34m\u001b[0m\u001b[0;34m\u001b[0m\u001b[0m\n\u001b[1;32m    733\u001b[0m                 \u001b[0;31m# re-raise KeyboardInterrupt, to truncate traceback\u001b[0m\u001b[0;34m\u001b[0m\u001b[0;34m\u001b[0m\u001b[0;34m\u001b[0m\u001b[0m\n\u001b[0;32m--> 734\u001b[0;31m                 \u001b[0;32mraise\u001b[0m \u001b[0mKeyboardInterrupt\u001b[0m\u001b[0;34m\u001b[0m\u001b[0;34m\u001b[0m\u001b[0m\n\u001b[0m\u001b[1;32m    735\u001b[0m             \u001b[0;32melse\u001b[0m\u001b[0;34m:\u001b[0m\u001b[0;34m\u001b[0m\u001b[0;34m\u001b[0m\u001b[0m\n\u001b[1;32m    736\u001b[0m                 \u001b[0;32mbreak\u001b[0m\u001b[0;34m\u001b[0m\u001b[0;34m\u001b[0m\u001b[0m\n",
            "\u001b[0;31mKeyboardInterrupt\u001b[0m: "
          ]
        }
      ]
    },
    {
      "cell_type": "markdown",
      "metadata": {
        "id": "2Fi0TdB-xbjl"
      },
      "source": [
        "#68\n",
        "(import as應用)"
      ]
    },
    {
      "cell_type": "code",
      "metadata": {
        "id": "VGjuTKYoxbL_"
      },
      "source": [
        "from random import randint as rt"
      ],
      "execution_count": null,
      "outputs": []
    },
    {
      "cell_type": "markdown",
      "metadata": {
        "id": "zanDQgiVxauB"
      },
      "source": [
        "#69\n",
        "(os函式應用)"
      ]
    },
    {
      "cell_type": "code",
      "metadata": {
        "colab": {
          "base_uri": "https://localhost:8080/"
        },
        "id": "exq_6txzxaR0",
        "outputId": "1828086a-c622-4e92-eac7-2f13ec4b6d5a"
      },
      "source": [
        "import os\n",
        "def print_file(filename):\n",
        "  line=None\n",
        "  if os.path.isfile(filename): #檔案存在是isfile函式,不存在isexit\n",
        "    data = open(filename, 'r')\n",
        "    for line in data:\n",
        "      print(line)\n",
        "print_file('usefile.txt')"
      ],
      "execution_count": null,
      "outputs": [
        {
          "output_type": "stream",
          "text": [
            "test1\n",
            "\n",
            "test2\n",
            "\n",
            "test3\n"
          ],
          "name": "stdout"
        }
      ]
    },
    {
      "cell_type": "markdown",
      "metadata": {
        "id": "FQcLvHRFosNL"
      },
      "source": [
        "#70\n",
        "#####(random套件應用)\n",
        "\n",
        "* random.randrange(a, b, c)\n",
        "######返回開區間[a,b),間隔c之數字\n",
        "* random.randint(a, b)\n",
        "######返回閉區間[a, b]範圍内的整数值\n",
        "* numpy.random.randint(a, b)\n",
        "######返回開區間[a, b)範圍内的整数值"
      ]
    },
    {
      "cell_type": "code",
      "metadata": {
        "colab": {
          "base_uri": "https://localhost:8080/"
        },
        "id": "BVDlZeJHorkd",
        "outputId": "0a2f894c-7613-4a55-e52f-0f02c502fa3c"
      },
      "source": [
        "import random\n",
        "data=random.randrange(1,11,1) #包含1不包含11,產生1個隨機數字\n",
        "print(data)\n",
        "data=random.randint(1,10) #包含1~10的隨機數字\n",
        "print(data)"
      ],
      "execution_count": null,
      "outputs": [
        {
          "output_type": "stream",
          "text": [
            "10\n",
            "8\n"
          ],
          "name": "stdout"
        }
      ]
    },
    {
      "cell_type": "markdown",
      "metadata": {
        "id": "qAvOUREfz5ke"
      },
      "source": [
        "#71\n",
        "(random函式應用)"
      ]
    },
    {
      "cell_type": "code",
      "metadata": {
        "colab": {
          "base_uri": "https://localhost:8080/"
        },
        "id": "9CXhNH6dz5RR",
        "outputId": "9922b358-8572-401d-9f58-f3349e0655e7"
      },
      "source": [
        "import random\n",
        "print(random.random())"
      ],
      "execution_count": null,
      "outputs": [
        {
          "output_type": "stream",
          "text": [
            "0.3574333294895954\n"
          ],
          "name": "stdout"
        }
      ]
    },
    {
      "cell_type": "markdown",
      "metadata": {
        "id": "gVqc3XsZz5GZ"
      },
      "source": [
        "#72\n",
        "(random套件應用)"
      ]
    },
    {
      "cell_type": "code",
      "metadata": {
        "colab": {
          "base_uri": "https://localhost:8080/"
        },
        "id": "wDyeRtiFz46y",
        "outputId": "85af9398-c5dd-4229-fbd1-ee3fa764b17d"
      },
      "source": [
        "from random import randint\n",
        "print(randint(0,10)*5)\n",
        "from random import randrange\n",
        "print(randrange(0,51,5))"
      ],
      "execution_count": null,
      "outputs": [
        {
          "output_type": "stream",
          "text": [
            "50\n",
            "45\n"
          ],
          "name": "stdout"
        }
      ]
    },
    {
      "cell_type": "markdown",
      "metadata": {
        "id": "HulPToi5z4t0"
      },
      "source": [
        "#73\n",
        "(math套件應用)"
      ]
    },
    {
      "cell_type": "code",
      "metadata": {
        "colab": {
          "base_uri": "https://localhost:8080/"
        },
        "id": "4rKsejklz4fi",
        "outputId": "9005fff2-5f21-4235-a038-20a9ac49354e"
      },
      "source": [
        "import math\n",
        "x=-5.33\n",
        "x=math.fabs(x) #取絕對值\n",
        "print(x)\n",
        "x=math.floor(x) #低於x且最接近的整數\n",
        "print(x)"
      ],
      "execution_count": null,
      "outputs": [
        {
          "output_type": "stream",
          "text": [
            "5.33\n",
            "5\n"
          ],
          "name": "stdout"
        }
      ]
    }
  ]
}