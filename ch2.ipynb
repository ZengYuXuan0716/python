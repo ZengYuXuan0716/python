{
 "cells": [
  {
   "cell_type": "markdown",
   "metadata": {},
   "source": [
    "# Chap2 流程控制\n",
    "## 1.if else , elif"
   ]
  },
  {
   "cell_type": "code",
   "execution_count": 1,
   "metadata": {},
   "outputs": [
    {
     "name": "stdout",
     "output_type": "stream",
     "text": [
      "b是比較大的數字\n"
     ]
    }
   ],
   "source": [
    "a=1\n",
    "b=2\n",
    "if a <= b:\n",
    "    print(\"b是比較大的數字\")\n",
    "else:\n",
    "    print(\"a是比較大的數字\")"
   ]
  },
  {
   "cell_type": "markdown",
   "metadata": {},
   "source": [
    "### ex:成績評鑑"
   ]
  },
  {
   "cell_type": "code",
   "execution_count": 2,
   "metadata": {},
   "outputs": [
    {
     "name": "stdout",
     "output_type": "stream",
     "text": [
      "成績評鑑：\n",
      "丙等\n"
     ]
    }
   ],
   "source": [
    "grade=65\n",
    "print(\"成績評鑑：\")\n",
    "if grade >= 90:\n",
    "    print(\"優等\")\n",
    "elif grade >=80:\n",
    "    print(\"甲等\")\n",
    "elif grade >=70:\n",
    "    print(\"乙等\")\n",
    "elif grade >=60:\n",
    "    print(\"丙等\")\n",
    "else:\n",
    "    print(\"不及格\")"
   ]
  },
  {
   "cell_type": "markdown",
   "metadata": {},
   "source": [
    "# 2.for 迴圈"
   ]
  },
  {
   "cell_type": "code",
   "execution_count": 5,
   "metadata": {},
   "outputs": [
    {
     "name": "stdout",
     "output_type": "stream",
     "text": [
      "1+2+3+...+10 = 55\n"
     ]
    }
   ],
   "source": [
    "#1+2+3...+10總和\n",
    "sum = 0\n",
    "for count in range(1, 11, 1): #從1~10，間隔1,不含11\n",
    "    sum += count\n",
    "print(\"1+2+3+...+10 =\", sum)"
   ]
  },
  {
   "cell_type": "code",
   "execution_count": 4,
   "metadata": {},
   "outputs": [
    {
     "name": "stdout",
     "output_type": "stream",
     "text": [
      "1+2+3+...+10 = 55\n"
     ]
    }
   ],
   "source": [
    "#range另外一種寫法\n",
    "#1+2+3...+10總和\n",
    "sum = 0\n",
    "for count in range(11): #1-10,不含11\n",
    "    sum += count\n",
    "print(\"1+2+3+...+10 =\", sum)"
   ]
  },
  {
   "cell_type": "code",
   "execution_count": 6,
   "metadata": {},
   "outputs": [
    {
     "name": "stdout",
     "output_type": "stream",
     "text": [
      "f\n",
      "o\n",
      "r\n",
      " \n",
      "s\n",
      "t\n",
      "a\n",
      "t\n",
      "e\n",
      "m\n",
      "e\n",
      "n\n",
      "t\n",
      "end\n"
     ]
    }
   ],
   "source": [
    "mylist=\"for statement\"\n",
    "for c in mylist:\n",
    "    print(c)\n",
    "print(\"end\")"
   ]
  },
  {
   "cell_type": "code",
   "execution_count": 7,
   "metadata": {},
   "outputs": [
    {
     "name": "stdout",
     "output_type": "stream",
     "text": [
      "a\n",
      "b\n",
      "c\n"
     ]
    }
   ],
   "source": [
    "for p in [\"a\", \"b\", \"c\"]:\n",
    "    print(p)"
   ]
  },
  {
   "cell_type": "markdown",
   "metadata": {},
   "source": [
    "### ex:雞兔同籠，若共有35個頭，94隻腳，請問有幾隻雞?幾隻兔?"
   ]
  },
  {
   "cell_type": "code",
   "execution_count": 8,
   "metadata": {},
   "outputs": [
    {
     "name": "stdout",
     "output_type": "stream",
     "text": [
      "雞有 23 隻,兔子有 12 隻\n"
     ]
    }
   ],
   "source": [
    "for chicken in range(0,36): #0~35\n",
    "    rabbit=35-chicken\n",
    "    if (2*chicken+4*rabbit) == 94:\n",
    "        print(\"雞有\",chicken,\"隻,兔子有\",rabbit,\"隻\")\n",
    "        break\n",
    "else:\n",
    "    print(\"無解\")"
   ]
  },
  {
   "cell_type": "markdown",
   "metadata": {},
   "source": [
    "# 3.while迴圈"
   ]
  },
  {
   "cell_type": "code",
   "execution_count": 9,
   "metadata": {},
   "outputs": [
    {
     "name": "stdout",
     "output_type": "stream",
     "text": [
      "1+2+3+...+10= 55\n"
     ]
    }
   ],
   "source": [
    "sum=0\n",
    "count=1\n",
    "while count <=10:\n",
    "    sum += count\n",
    "    count += 1\n",
    "print(\"1+2+3+...+10=\",sum)"
   ]
  },
  {
   "cell_type": "markdown",
   "metadata": {},
   "source": [
    "### ex:本金10000元，定存年利率0.6%，請問多久銀行存款會翻倍"
   ]
  },
  {
   "cell_type": "code",
   "execution_count": 10,
   "metadata": {},
   "outputs": [
    {
     "name": "stdout",
     "output_type": "stream",
     "text": [
      "116 年以後，存款加倍，為 20015 元\n"
     ]
    }
   ],
   "source": [
    "x=10000\n",
    "years=0\n",
    "while x <= 20000:\n",
    "    x=x*1.006\n",
    "    years += 1\n",
    "print(str(years), \"年以後，存款加倍，為\", int(x),\"元\")"
   ]
  },
  {
   "cell_type": "markdown",
   "metadata": {},
   "source": [
    "### ex:帳號密碼判斷"
   ]
  },
  {
   "cell_type": "code",
   "execution_count": 13,
   "metadata": {},
   "outputs": [
    {
     "name": "stdout",
     "output_type": "stream",
     "text": [
      "請輸入帳號：qw\n",
      "請輸入密碼：546\n",
      "帳號或密碼輸入錯誤\n",
      "請輸入帳號：aaa\n",
      "請輸入密碼：123\n",
      "歡迎登入\n"
     ]
    }
   ],
   "source": [
    "id=\"aaa\"\n",
    "pwd=\"123\"\n",
    "while True:\n",
    "    x=input(\"請輸入帳號：\")\n",
    "    y=input(\"請輸入密碼：\")\n",
    "    if (x==id and y==pwd):\n",
    "        print(\"歡迎登入\")\n",
    "        break\n",
    "    else:\n",
    "        print(\"帳號或密碼輸入錯誤\")"
   ]
  },
  {
   "cell_type": "markdown",
   "metadata": {},
   "source": [
    "# 4.亂數"
   ]
  },
  {
   "cell_type": "code",
   "execution_count": 17,
   "metadata": {},
   "outputs": [
    {
     "name": "stdout",
     "output_type": "stream",
     "text": [
      "2\n",
      "4\n",
      "1\n",
      "8\n",
      "1\n",
      "1\n",
      "6\n",
      "6\n",
      "2\n",
      "3\n"
     ]
    }
   ],
   "source": [
    "import random\n",
    "for i in range(0,10): #0~9\n",
    "    print(random.randint(1,9)) #1~9"
   ]
  },
  {
   "cell_type": "markdown",
   "metadata": {},
   "source": [
    "### ex:猜數字"
   ]
  },
  {
   "cell_type": "code",
   "execution_count": 20,
   "metadata": {},
   "outputs": [
    {
     "name": "stdout",
     "output_type": "stream",
     "text": [
      "請輸入1~5之間的數字-->1\n",
      "你猜錯了\n",
      "請輸入1~5之間的數字-->2\n",
      "你猜錯了\n",
      "請輸入1~5之間的數字-->3\n",
      "你猜對了，數字是 3\n"
     ]
    }
   ],
   "source": [
    "import random\n",
    "number=random.randint(1,5)\n",
    "while True:\n",
    "    guess=int(input(\"請輸入1~5之間的數字-->\"))\n",
    "    if guess == number:\n",
    "        print(\"你猜對了，數字是\", number)\n",
    "        break\n",
    "    else:\n",
    "        print(\"你猜錯了\")"
   ]
  }
 ],
 "metadata": {
  "kernelspec": {
   "display_name": "Python 3",
   "language": "python",
   "name": "python3"
  },
  "language_info": {
   "codemirror_mode": {
    "name": "ipython",
    "version": 3
   },
   "file_extension": ".py",
   "mimetype": "text/x-python",
   "name": "python",
   "nbconvert_exporter": "python",
   "pygments_lexer": "ipython3",
   "version": "3.8.5"
  }
 },
 "nbformat": 4,
 "nbformat_minor": 4
}
